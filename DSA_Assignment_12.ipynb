{
 "cells": [
  {
   "cell_type": "markdown",
   "id": "e5c1048f-9b1b-4d27-94d8-30f2b7bb6444",
   "metadata": {},
   "source": [
    "### Question 1\n",
    "\n",
    "Given a singly linked list, delete **middle** of the linked list. For example, if given linked list is 1->2->**3**->4->5 then linked list should be modified to 1->2->4->5.If there are **even** nodes, then there would be **two middle** nodes, we need to delete the second middle element. For example, if given linked list is 1->2->3->4->5->6 then it should be modified to 1->2->3->5->6.If the input linked list is NULL or has 1 node, then it should return NULL\n"
   ]
  },
  {
   "cell_type": "code",
   "execution_count": 1,
   "id": "d2ba3657-f805-4279-ba92-83f3ba0737d3",
   "metadata": {},
   "outputs": [
    {
     "name": "stdout",
     "output_type": "stream",
     "text": [
      "1 2 4 5 "
     ]
    }
   ],
   "source": [
    "class ListNode:\n",
    "    def __init__(self, val=0, next=None):\n",
    "        self.val = val\n",
    "        self.next = next\n",
    "\n",
    "def deleteMiddleNode(head):\n",
    "    # If the list is empty or has only one node, return None\n",
    "    if head is None or head.next is None:\n",
    "        return None\n",
    "    \n",
    "    # Initialize two pointers, slow and fast\n",
    "    slow = head\n",
    "    fast = head\n",
    "    prev = None\n",
    "    \n",
    "    # Move the fast pointer two steps at a time and the slow pointer one step at a time\n",
    "    while fast and fast.next:\n",
    "        fast = fast.next.next\n",
    "        prev = slow\n",
    "        slow = slow.next\n",
    "    \n",
    "    # Delete the middle node by skipping it\n",
    "    prev.next = slow.next\n",
    "    \n",
    "    return head\n",
    "\n",
    "# Example usage\n",
    "head = ListNode(1)\n",
    "head.next = ListNode(2)\n",
    "head.next.next = ListNode(3)\n",
    "head.next.next.next = ListNode(4)\n",
    "head.next.next.next.next = ListNode(5)\n",
    "\n",
    "new_head = deleteMiddleNode(head)\n",
    "\n",
    "# Print the modified linked list\n",
    "current = new_head\n",
    "while current:\n",
    "    print(current.val, end=\" \")\n",
    "    current = current.next\n"
   ]
  },
  {
   "cell_type": "markdown",
   "id": "3c7dc0e9-227e-41b6-9e3f-8e00178c3d52",
   "metadata": {},
   "source": [
    "### Question 2\n",
    "\n",
    "Given a linked list of **N** nodes. The task is to check if the linked list has a loop. Linked list can contain self loop."
   ]
  },
  {
   "cell_type": "code",
   "execution_count": 2,
   "id": "a089119d-e151-4c05-af31-91c82654921d",
   "metadata": {},
   "outputs": [
    {
     "name": "stdout",
     "output_type": "stream",
     "text": [
      "True\n"
     ]
    }
   ],
   "source": [
    "class ListNode:\n",
    "    def __init__(self, val=0, next=None):\n",
    "        self.val = val\n",
    "        self.next = next\n",
    "\n",
    "def hasLoop(head):\n",
    "    if head is None or head.next is None:\n",
    "        return False\n",
    "    \n",
    "    slow = head\n",
    "    fast = head\n",
    "    \n",
    "    while fast and fast.next:\n",
    "        slow = slow.next\n",
    "        fast = fast.next.next\n",
    "        \n",
    "        if slow == fast:\n",
    "            return True\n",
    "    \n",
    "    return False\n",
    "\n",
    "# Example usage\n",
    "head = ListNode(1)\n",
    "head.next = ListNode(2)\n",
    "head.next.next = ListNode(3)\n",
    "head.next.next.next = ListNode(4)\n",
    "head.next.next.next.next = head.next\n",
    "\n",
    "has_loop = hasLoop(head)\n",
    "\n",
    "print(has_loop)\n"
   ]
  },
  {
   "cell_type": "markdown",
   "id": "3d2178c0-5416-4ec4-bef5-2d5847c6f712",
   "metadata": {},
   "source": [
    "### Question 3\n",
    "\n",
    "Given a linked list consisting of **L** nodes and given a number **N**. The task is to find the **N**th node from the end of the linked list."
   ]
  },
  {
   "cell_type": "code",
   "execution_count": 3,
   "id": "af3a4c6d-a43e-45e0-b093-aa97723efb70",
   "metadata": {},
   "outputs": [
    {
     "name": "stdout",
     "output_type": "stream",
     "text": [
      "7\n"
     ]
    }
   ],
   "source": [
    "class ListNode:\n",
    "    def __init__(self, val=0, next=None):\n",
    "        self.val = val\n",
    "        self.next = next\n",
    "\n",
    "def findNthFromEnd(head, N):\n",
    "    if head is None:\n",
    "        return None\n",
    "    \n",
    "    fast = head\n",
    "    slow = head\n",
    "    \n",
    "    # Move the fast pointer N positions ahead\n",
    "    for _ in range(N):\n",
    "        if fast is None:\n",
    "            return None\n",
    "        fast = fast.next\n",
    "    \n",
    "    # Move both pointers simultaneously\n",
    "    while fast.next is not None:\n",
    "        fast = fast.next\n",
    "        slow = slow.next\n",
    "    \n",
    "    return slow.val\n",
    "\n",
    "# Example usage\n",
    "head = ListNode(1)\n",
    "head.next = ListNode(2)\n",
    "head.next.next = ListNode(3)\n",
    "head.next.next.next = ListNode(4)\n",
    "head.next.next.next.next = ListNode(5)\n",
    "head.next.next.next.next.next = ListNode(6)\n",
    "head.next.next.next.next.next.next = ListNode(7)\n",
    "head.next.next.next.next.next.next.next = ListNode(8)\n",
    "head.next.next.next.next.next.next.next.next = ListNode(9)\n",
    "\n",
    "Nth_node = findNthFromEnd(head, 2)\n",
    "\n",
    "print(Nth_node)\n"
   ]
  },
  {
   "cell_type": "markdown",
   "id": "766ec7ae-d06c-4d4a-997b-6dbc05e5a77e",
   "metadata": {},
   "source": [
    "### Question 4\n",
    "\n",
    "Given a singly linked list of characters, write a function that returns true if the given list is a palindrome, else false.\n"
   ]
  },
  {
   "cell_type": "code",
   "execution_count": 5,
   "id": "8465cfd0-9fbc-47f9-a852-f8fe9e7b5f0e",
   "metadata": {},
   "outputs": [
    {
     "name": "stdout",
     "output_type": "stream",
     "text": [
      "Yes\n"
     ]
    }
   ],
   "source": [
    "class ListNode:\n",
    "    def __init__(self, val=0, next=None):\n",
    "        self.val = val\n",
    "        self.next = next\n",
    "\n",
    "def reverseLinkedList(head):\n",
    "    prev = None\n",
    "    curr = head\n",
    "    \n",
    "    while curr is not None:\n",
    "        next_node = curr.next\n",
    "        curr.next = prev\n",
    "        prev = curr\n",
    "        curr = next_node\n",
    "    \n",
    "    return prev\n",
    "\n",
    "def isPalindrome(head):\n",
    "    if head is None or head.next is None:\n",
    "        return True\n",
    "    \n",
    "    slow = head\n",
    "    fast = head\n",
    "    \n",
    "    # Find the middle of the linked list\n",
    "    while fast.next is not None and fast.next.next is not None:\n",
    "        slow = slow.next\n",
    "        fast = fast.next.next\n",
    "    \n",
    "    second_half = slow.next\n",
    "    slow.next = None\n",
    "    \n",
    "    # Reverse the second half of the linked list\n",
    "    second_half = reverseLinkedList(second_half)\n",
    "    \n",
    "    # Compare the first half with the reversed second half\n",
    "    first_half = head\n",
    "    while first_half is not None and second_half is not None:\n",
    "        if first_half.val != second_half.val:\n",
    "            return False\n",
    "        first_half = first_half.next\n",
    "        second_half = second_half.next\n",
    "    \n",
    "    return True\n",
    "\n",
    "# Example usage\n",
    "head = ListNode('R')\n",
    "head.next = ListNode('A')\n",
    "head.next.next = ListNode('D')\n",
    "head.next.next.next = ListNode('A')\n",
    "head.next.next.next.next = ListNode('R')\n",
    "\n",
    "is_palindrome = isPalindrome(head)\n",
    "\n",
    "if is_palindrome:\n",
    "    print(\"Yes\")\n",
    "else:\n",
    "    print(\"No\")\n"
   ]
  },
  {
   "cell_type": "markdown",
   "id": "c6d5ca97-9acb-49b2-b0ce-2e9e186533d8",
   "metadata": {},
   "source": [
    "### Question 5\n",
    "\n",
    "Given a linked list of **N** nodes such that it may contain a loop.\n",
    "\n",
    "A loop here means that the last node of the link list is connected to the node at position X(1-based index). If the link list does not have any loop, X=0.\n",
    "\n",
    "Remove the loop from the linked list, if it is present, i.e. unlink the last node which is forming the loop"
   ]
  },
  {
   "cell_type": "code",
   "execution_count": 6,
   "id": "d64d2946-16df-4ab8-9ebc-5f94aca70332",
   "metadata": {},
   "outputs": [
    {
     "name": "stdout",
     "output_type": "stream",
     "text": [
      "1 2 3 4 5 "
     ]
    }
   ],
   "source": [
    "class ListNode:\n",
    "    def __init__(self, val=0, next=None):\n",
    "        self.val = val\n",
    "        self.next = next\n",
    "\n",
    "def detectAndRemoveLoop(head):\n",
    "    if head is None or head.next is None:\n",
    "        return head\n",
    "    \n",
    "    slow = head\n",
    "    fast = head\n",
    "\n",
    "    # Detect the loop using slow and fast pointers\n",
    "    while fast is not None and fast.next is not None:\n",
    "        slow = slow.next\n",
    "        fast = fast.next.next\n",
    "\n",
    "        if slow == fast:\n",
    "            break\n",
    "\n",
    "    # If there is no loop, return the linked list\n",
    "    if slow != fast:\n",
    "        return head\n",
    "\n",
    "    # Move slow pointer to the head and keep fast pointer at the meeting point\n",
    "    slow = head\n",
    "    while slow.next != fast.next:\n",
    "        slow = slow.next\n",
    "        fast = fast.next\n",
    "\n",
    "    # Remove the loop by setting the next pointer of the last node to None\n",
    "    fast.next = None\n",
    "\n",
    "    return head\n",
    "\n",
    "# Example usage\n",
    "head = ListNode(1)\n",
    "head.next = ListNode(2)\n",
    "head.next.next = ListNode(3)\n",
    "head.next.next.next = ListNode(4)\n",
    "head.next.next.next.next = ListNode(5)\n",
    "head.next.next.next.next.next = head.next  # Creating a loop\n",
    "\n",
    "# Remove the loop\n",
    "head = detectAndRemoveLoop(head)\n",
    "\n",
    "# Print the modified linked list\n",
    "current = head\n",
    "while current is not None:\n",
    "    print(current.val, end=\" \")\n",
    "    current = current.next\n"
   ]
  },
  {
   "cell_type": "markdown",
   "id": "77fe4aa7-d650-4e86-b42b-298ca4d12bc1",
   "metadata": {},
   "source": [
    "### Question 6\n",
    "\n",
    "Given a linked list and two integers M and N. Traverse the linked list such that you retain M nodes then delete next N nodes, continue the same till end of the linked list"
   ]
  },
  {
   "cell_type": "code",
   "execution_count": 7,
   "id": "c3bf30ae-46f8-4453-a78a-3c4814bf4c84",
   "metadata": {},
   "outputs": [
    {
     "name": "stdout",
     "output_type": "stream",
     "text": [
      "1 2 5 8 "
     ]
    }
   ],
   "source": [
    "class ListNode:\n",
    "    def __init__(self, val=0, next=None):\n",
    "        self.val = val\n",
    "        self.next = next\n",
    "\n",
    "def deleteNodes(head, M, N):\n",
    "    if not head:\n",
    "        return None\n",
    "\n",
    "    current = head\n",
    "    while current:\n",
    "        # Traverse M nodes\n",
    "        for _ in range(M - 1):\n",
    "            if current:\n",
    "                current = current.next\n",
    "\n",
    "        if not current:\n",
    "            break\n",
    "\n",
    "        # Keep a reference to the M-th node\n",
    "        last_node = current\n",
    "\n",
    "        # Traverse N nodes to be deleted\n",
    "        for _ in range(N):\n",
    "            if current:\n",
    "                current = current.next\n",
    "\n",
    "        # Connect the next batch of nodes to the last_node\n",
    "        last_node.next = current.next if current else None\n",
    "\n",
    "    return head\n",
    "\n",
    "# Example usage\n",
    "head = ListNode(1)\n",
    "head.next = ListNode(2)\n",
    "head.next.next = ListNode(3)\n",
    "head.next.next.next = ListNode(4)\n",
    "head.next.next.next.next = ListNode(5)\n",
    "head.next.next.next.next.next = ListNode(6)\n",
    "head.next.next.next.next.next.next = ListNode(7)\n",
    "head.next.next.next.next.next.next.next = ListNode(8)\n",
    "\n",
    "M = 2\n",
    "N = 2\n",
    "\n",
    "# Delete nodes as per the given M and N values\n",
    "head = deleteNodes(head, M, N)\n",
    "\n",
    "# Print the modified linked list\n",
    "current = head\n",
    "while current is not None:\n",
    "    print(current.val, end=\" \")\n",
    "    current = current.next\n"
   ]
  },
  {
   "cell_type": "markdown",
   "id": "f9a3a453-e9f8-4b62-9640-d3939fabf70b",
   "metadata": {},
   "source": [
    "### Question 7\n",
    "\n",
    "Given two linked lists, insert nodes of second list into first list at alternate positions of first list.\n",
    "For example, if first list is 5->7->17->13->11 and second is 12->10->2->4->6, the first list should become 5->12->7->10->17->2->13->4->11->6 and second list should become empty. The nodes of second list should only be inserted when there are positions available. For example, if the first list is 1->2->3 and second list is 4->5->6->7->8, then first list should become 1->4->2->5->3->6 and second list to 7->8.\n",
    "\n",
    "Use of extra space is not allowed (Not allowed to create additional nodes), i.e., insertion must be done in-place. Expected time complexity is O(n) where n is number of nodes in first list."
   ]
  },
  {
   "cell_type": "code",
   "execution_count": 8,
   "id": "3836a343-d430-4a1b-b9ad-69b9ce03cd07",
   "metadata": {},
   "outputs": [
    {
     "name": "stdout",
     "output_type": "stream",
     "text": [
      "5 12 7 10 17 2 13 4 11 6 12 7 10 17 2 13 4 11 6 "
     ]
    }
   ],
   "source": [
    "class ListNode:\n",
    "    def __init__(self, val=0, next=None):\n",
    "        self.val = val\n",
    "        self.next = next\n",
    "\n",
    "def insertAlternateNodes(first_head, second_head):\n",
    "    if not first_head or not second_head:\n",
    "        return first_head\n",
    "\n",
    "    first_current = first_head\n",
    "    second_current = second_head\n",
    "\n",
    "    while first_current and second_current:\n",
    "        first_next = first_current.next\n",
    "        second_next = second_current.next\n",
    "\n",
    "        second_current.next = first_next\n",
    "        first_current.next = second_current\n",
    "\n",
    "        first_current = first_next\n",
    "        second_current = second_next\n",
    "\n",
    "    if second_current:\n",
    "        first_current.next = second_current\n",
    "\n",
    "    second_head = None\n",
    "\n",
    "    return first_head\n",
    "\n",
    "# Example usage\n",
    "first_head = ListNode(5)\n",
    "first_head.next = ListNode(7)\n",
    "first_head.next.next = ListNode(17)\n",
    "first_head.next.next.next = ListNode(13)\n",
    "first_head.next.next.next.next = ListNode(11)\n",
    "\n",
    "second_head = ListNode(12)\n",
    "second_head.next = ListNode(10)\n",
    "second_head.next.next = ListNode(2)\n",
    "second_head.next.next.next = ListNode(4)\n",
    "second_head.next.next.next.next = ListNode(6)\n",
    "\n",
    "# Insert alternate nodes from second list into first list\n",
    "first_head = insertAlternateNodes(first_head, second_head)\n",
    "\n",
    "# Print the modified first list\n",
    "current = first_head\n",
    "while current is not None:\n",
    "    print(current.val, end=\" \")\n",
    "    current = current.next\n",
    "\n",
    "# Print the modified second list\n",
    "current = second_head\n",
    "while current is not None:\n",
    "    print(current.val, end=\" \")\n",
    "    current = current.next\n"
   ]
  },
  {
   "cell_type": "markdown",
   "id": "5a1deaa3-c0b4-44b4-910e-c989b6674062",
   "metadata": {},
   "source": [
    "### Question 8\n",
    "\n",
    "Given a singly linked list, find if the linked list is [circular](https://www.geeksforgeeks.org/circular-linked-list/amp/) or not.\n",
    "\n",
    "> A linked list is called circular if it is not NULL-terminated and all nodes are connected in the form of a cycle. Below is an example of a circular linked list."
   ]
  },
  {
   "cell_type": "code",
   "execution_count": 9,
   "id": "d66a0ab2-b73a-4a30-b066-d45874b7509b",
   "metadata": {},
   "outputs": [
    {
     "name": "stdout",
     "output_type": "stream",
     "text": [
      "True\n"
     ]
    }
   ],
   "source": [
    "class ListNode:\n",
    "    def __init__(self, val=0, next=None):\n",
    "        self.val = val\n",
    "        self.next = next\n",
    "\n",
    "def isCircular(head):\n",
    "    if not head or not head.next:\n",
    "        return False\n",
    "\n",
    "    slow = head\n",
    "    fast = head.next\n",
    "\n",
    "    while fast and fast.next:\n",
    "        if slow == fast:\n",
    "            return True\n",
    "        slow = slow.next\n",
    "        fast = fast.next.next\n",
    "\n",
    "    return False\n",
    "\n",
    "# Example usage\n",
    "head = ListNode(1)\n",
    "head.next = ListNode(2)\n",
    "head.next.next = ListNode(3)\n",
    "head.next.next.next = ListNode(4)\n",
    "head.next.next.next.next = head  # Make the list circular by connecting the tail to the head\n",
    "\n",
    "print(isCircular(head))  # Output: True\n"
   ]
  },
  {
   "cell_type": "code",
   "execution_count": null,
   "id": "124a396e-2204-4300-abae-5a79d0b855aa",
   "metadata": {},
   "outputs": [],
   "source": []
  }
 ],
 "metadata": {
  "kernelspec": {
   "display_name": "Python 3 (ipykernel)",
   "language": "python",
   "name": "python3"
  },
  "language_info": {
   "codemirror_mode": {
    "name": "ipython",
    "version": 3
   },
   "file_extension": ".py",
   "mimetype": "text/x-python",
   "name": "python",
   "nbconvert_exporter": "python",
   "pygments_lexer": "ipython3",
   "version": "3.10.6"
  }
 },
 "nbformat": 4,
 "nbformat_minor": 5
}
