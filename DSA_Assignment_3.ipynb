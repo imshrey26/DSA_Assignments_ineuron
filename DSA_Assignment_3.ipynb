{
 "cells": [
  {
   "cell_type": "markdown",
   "id": "8d0774a3-28c2-4eb1-96d7-1d33e5296058",
   "metadata": {},
   "source": [
    "### Q-1\n",
    "\n",
    "Given an integer array nums of length n and an integer target, find three integers\n",
    "in nums such that the sum is closest to the target.\n",
    "Return the sum of the three integers.\n",
    "\n",
    "You may assume that each input would have exactly one solution.\n"
   ]
  },
  {
   "cell_type": "code",
   "execution_count": 1,
   "id": "1c346671-e497-486f-a728-00f2d0b23aa7",
   "metadata": {},
   "outputs": [],
   "source": [
    "def threeSumClosest(nums, target):\n",
    "    nums.sort()\n",
    "    n = len(nums)\n",
    "    closestSum = float('inf')\n",
    "\n",
    "    for i in range(n):\n",
    "        left = i + 1\n",
    "        right = n - 1\n",
    "\n",
    "        while left < right:\n",
    "            currSum = nums[i] + nums[left] + nums[right]\n",
    "\n",
    "            if currSum == target:\n",
    "                return currSum\n",
    "\n",
    "            if abs(currSum - target) < abs(closestSum - target):\n",
    "                closestSum = currSum\n",
    "\n",
    "            if currSum < target:\n",
    "                left += 1\n",
    "            else:\n",
    "                right -= 1\n",
    "\n",
    "    return closestSum\n"
   ]
  },
  {
   "cell_type": "code",
   "execution_count": 2,
   "id": "4c2496c0-709b-4351-afe2-716edf67193c",
   "metadata": {},
   "outputs": [
    {
     "name": "stdout",
     "output_type": "stream",
     "text": [
      "2\n"
     ]
    }
   ],
   "source": [
    "nums = [-1, 2, 1, -4]\n",
    "target = 1\n",
    "result = threeSumClosest(nums, target)\n",
    "print(result)  "
   ]
  },
  {
   "cell_type": "markdown",
   "id": "af9b2b16-d20d-4b00-885c-8153229e4d6a",
   "metadata": {},
   "source": [
    "### Question 2\n",
    "Given an array nums of n integers, return an array of all the unique quadruplets\n",
    "[nums[a], nums[b], nums[c], nums[d]] such that:\n",
    " - 0 <= a, b, c, d < n\n",
    " - a, b, c, and d are distinct.\n",
    "- nums[a] + nums[b] + nums[c] + nums[d] == target\n",
    "\n",
    "You may return the answer in any order.\n"
   ]
  },
  {
   "cell_type": "code",
   "execution_count": 4,
   "id": "35c4636e-d4f1-4416-b6c6-ecdda0040687",
   "metadata": {},
   "outputs": [],
   "source": [
    "def fourSum(nums, target):\n",
    "    nums.sort()\n",
    "    result = []\n",
    "\n",
    "    def findQuadruplets(nums, target, start, k, current):\n",
    "        if k == 2:\n",
    "            left = start\n",
    "            right = len(nums) - 1\n",
    "\n",
    "            while left < right:\n",
    "                if nums[left] + nums[right] == target:\n",
    "                    result.append(current + [nums[left], nums[right]])\n",
    "\n",
    "                    left += 1\n",
    "                    right -= 1\n",
    "\n",
    "                    while left < right and nums[left] == nums[left - 1]:\n",
    "                        left += 1\n",
    "                    while left < right and nums[right] == nums[right + 1]:\n",
    "                        right -= 1\n",
    "                elif nums[left] + nums[right] < target:\n",
    "                    left += 1\n",
    "                else:\n",
    "                    right -= 1\n",
    "        else:\n",
    "            for i in range(start, len(nums) - k + 1):\n",
    "                if i > start and nums[i] == nums[i - 1]:\n",
    "                    continue\n",
    "\n",
    "                findQuadruplets(nums, target - nums[i], i + 1, k - 1, current + [nums[i]])\n",
    "\n",
    "    findQuadruplets(nums, target, 0, 4, [])\n",
    "    return result\n",
    "\n"
   ]
  },
  {
   "cell_type": "code",
   "execution_count": 5,
   "id": "71f179fc-706d-40a4-ab60-473ed0d0cf0e",
   "metadata": {},
   "outputs": [
    {
     "name": "stdout",
     "output_type": "stream",
     "text": [
      "[[-2, -1, 1, 2], [-2, 0, 0, 2], [-1, 0, 0, 1]]\n"
     ]
    }
   ],
   "source": [
    "nums = [1, 0, -1, 0, -2, 2]\n",
    "target = 0\n",
    "result = fourSum(nums, target)\n",
    "print(result)  \n"
   ]
  },
  {
   "cell_type": "markdown",
   "id": "35fc1cae-27b6-433f-8eaf-d151369aa634",
   "metadata": {},
   "source": [
    "### Question 3\n",
    "A permutation of an array of integers is an arrangement of its members into a\n",
    "sequence or linear order.\n",
    "\n",
    "For example, for arr = [1,2,3], the following are all the permutations of arr:\n",
    "[1,2,3], [1,3,2], [2, 1, 3], [2, 3, 1], [3,1,2], [3,2,1].\n",
    "\n",
    "The next permutation of an array of integers is the next lexicographically greater\n",
    "permutation of its integer. More formally, if all the permutations of the array are\n",
    "sorted in one container according to their lexicographical order, then the next\n",
    "permutation of that array is the permutation that follows it in the sorted container.\n",
    "\n",
    "If such an arrangement is not possible, the array must be rearranged as the\n",
    "lowest possible order (i.e., sorted in ascending order).\n",
    "\n",
    "● For example, the next permutation of arr = [1,2,3] is [1,3,2].\n",
    "● Similarly, the next permutation of arr = [2,3,1] is [3,1,2].\n",
    "● While the next permutation of arr = [3,2,1] is [1,2,3] because [3,2,1] does not\n",
    "have a lexicographical larger rearrangement.\n",
    "\n",
    "Given an array of integers nums, find the next permutation of nums.\n",
    "The replacement must be in place and use only constant extra memory.\n"
   ]
  },
  {
   "cell_type": "code",
   "execution_count": 6,
   "id": "0c42095c-a80f-4009-b953-25b805514c78",
   "metadata": {},
   "outputs": [],
   "source": [
    "def nextPermutation(nums):\n",
    "    # Find the first pair of adjacent elements where nums[i-1] < nums[i]\n",
    "    i = len(nums) - 1\n",
    "    while i > 0 and nums[i-1] >= nums[i]:\n",
    "        i -= 1\n",
    "    \n",
    "    # If no such pair is found, reverse the entire array\n",
    "    if i == 0:\n",
    "        nums.reverse()\n",
    "        return nums\n",
    "    \n",
    "    # Find the smallest element in the suffix that is greater than nums[i-1]\n",
    "    j = len(nums) - 1\n",
    "    while nums[j] <= nums[i-1]:\n",
    "        j -= 1\n",
    "    \n",
    "    # Swap nums[i-1] and nums[j]\n",
    "    nums[i-1], nums[j] = nums[j], nums[i-1]\n",
    "    \n",
    "    # Reverse the suffix starting from index i\n",
    "    left, right = i, len(nums) - 1\n",
    "    while left < right:\n",
    "        nums[left], nums[right] = nums[right], nums[left]\n",
    "        left += 1\n",
    "        right -= 1\n",
    "    \n",
    "    return nums\n"
   ]
  },
  {
   "cell_type": "code",
   "execution_count": 7,
   "id": "b2ae2147-6ae6-4ef3-82a7-00f1c7b4a5ac",
   "metadata": {},
   "outputs": [
    {
     "name": "stdout",
     "output_type": "stream",
     "text": [
      "[1, 3, 2]\n"
     ]
    }
   ],
   "source": [
    "nums = [1, 2, 3]\n",
    "result = nextPermutation(nums)\n",
    "print(result) "
   ]
  },
  {
   "cell_type": "markdown",
   "id": "0cb0dd4a-c15f-435f-a632-f47101b2cb8d",
   "metadata": {},
   "source": [
    "### Question 4\n",
    "Given a sorted array of distinct integers and a target value, return the index if the\n",
    "target is found. If not, return the index where it would be if it were inserted in\n",
    "order.\n",
    "\n",
    "You must write an algorithm with O(log n) runtime complexity.\n"
   ]
  },
  {
   "cell_type": "code",
   "execution_count": 8,
   "id": "6baed96d-800e-4477-87a3-21930872de4f",
   "metadata": {},
   "outputs": [],
   "source": [
    "def searchInsert(nums, target):\n",
    "    left, right = 0, len(nums) - 1\n",
    "    \n",
    "    while left <= right:\n",
    "        mid = (left + right) // 2\n",
    "        \n",
    "        if nums[mid] == target:\n",
    "            return mid\n",
    "        elif nums[mid] < target:\n",
    "            left = mid + 1\n",
    "        else:\n",
    "            right = mid - 1\n",
    "    \n",
    "    return left\n"
   ]
  },
  {
   "cell_type": "code",
   "execution_count": 9,
   "id": "cb776ad3-2217-49c2-a54b-6a346e1c197a",
   "metadata": {},
   "outputs": [
    {
     "name": "stdout",
     "output_type": "stream",
     "text": [
      "2\n"
     ]
    }
   ],
   "source": [
    "nums = [1, 3, 5, 6]\n",
    "target = 5\n",
    "result = searchInsert(nums, target)\n",
    "print(result) \n"
   ]
  },
  {
   "cell_type": "markdown",
   "id": "09554cc4-df6f-4de1-8096-6708709c9a7f",
   "metadata": {},
   "source": [
    "### Question 5\n",
    "You are given a large integer represented as an integer array digits, where each\n",
    "digits[i] is the ith digit of the integer. The digits are ordered from most significant\n",
    "to least significant in left-to-right order. The large integer does not contain any\n",
    "leading 0's.\n",
    "\n",
    "Increment the large integer by one and return the resulting array of digits.\n"
   ]
  },
  {
   "cell_type": "code",
   "execution_count": 10,
   "id": "df8c41bc-7b2d-43d2-b4a9-e76a02e0665b",
   "metadata": {},
   "outputs": [],
   "source": [
    "def plusOne(digits):\n",
    "    carry = 1\n",
    "    for i in range(len(digits) - 1, -1, -1):\n",
    "        digits[i] += carry\n",
    "        carry = digits[i] // 10\n",
    "        digits[i] %= 10\n",
    "    \n",
    "    if carry == 1:\n",
    "        digits.insert(0, 1)\n",
    "    \n",
    "    return digits\n"
   ]
  },
  {
   "cell_type": "code",
   "execution_count": 11,
   "id": "aaebb143-805a-4727-b0fc-7ddcf259d870",
   "metadata": {},
   "outputs": [
    {
     "name": "stdout",
     "output_type": "stream",
     "text": [
      "[1, 2, 4]\n"
     ]
    }
   ],
   "source": [
    "digits = [1, 2, 3]\n",
    "result = plusOne(digits)\n",
    "print(result) "
   ]
  },
  {
   "cell_type": "markdown",
   "id": "5e9efe72-4d0c-4f69-9be4-2b612f491009",
   "metadata": {},
   "source": [
    "### Question 6\n",
    "Given a non-empty array of integers nums, every element appears twice except\n",
    "for one. Find that single one.\n",
    "\n",
    "You must implement a solution with a linear runtime complexity and use only\n",
    "constant extra space.\n"
   ]
  },
  {
   "cell_type": "code",
   "execution_count": 12,
   "id": "bb49759d-b9c2-40ef-962a-c9db100522e5",
   "metadata": {},
   "outputs": [],
   "source": [
    "def singleNumber(nums):\n",
    "    result = 0\n",
    "    for num in nums:\n",
    "        result ^= num\n",
    "    return result\n"
   ]
  },
  {
   "cell_type": "code",
   "execution_count": 13,
   "id": "31fb71ff-1622-4d29-a6a1-5db2a34a1e38",
   "metadata": {},
   "outputs": [
    {
     "name": "stdout",
     "output_type": "stream",
     "text": [
      "1\n"
     ]
    }
   ],
   "source": [
    "nums = [2, 2, 1]\n",
    "result = singleNumber(nums)\n",
    "print(result) \n"
   ]
  },
  {
   "cell_type": "markdown",
   "id": "4d06b0e9-4d82-4124-9a43-1fc05ca4d697",
   "metadata": {},
   "source": [
    "### Question 7\n",
    "You are given an inclusive range [lower, upper] and a sorted unique integer array\n",
    "nums, where all elements are within the inclusive range.\n",
    "\n",
    "A number x is considered missing if x is in the range [lower, upper] and x is not in\n",
    "nums.\n",
    "\n",
    "Return the shortest sorted list of ranges that exactly covers all the missing\n",
    "numbers. That is, no element of nums is included in any of the ranges, and each\n",
    "missing number is covered by one of the ranges.\n"
   ]
  },
  {
   "cell_type": "code",
   "execution_count": 14,
   "id": "84ae095f-ac85-4b82-bd5d-e352e85e33f4",
   "metadata": {},
   "outputs": [],
   "source": [
    "def findMissingRanges(nums, lower, upper):\n",
    "    missing_ranges = []\n",
    "    start = lower\n",
    "    for num in nums:\n",
    "        if num > start:\n",
    "            end = num - 1\n",
    "            missing_ranges.append(getRange(start, end))\n",
    "        start = num + 1\n",
    "    \n",
    "    # Check if there are any missing numbers after the last element\n",
    "    if start <= upper:\n",
    "        missing_ranges.append(getRange(start, upper))\n",
    "    \n",
    "    return missing_ranges\n",
    "\n",
    "def getRange(start, end):\n",
    "    if start == end:\n",
    "        return str(start)\n",
    "    else:\n",
    "        return str(start) + \"->\" + str(end)\n"
   ]
  },
  {
   "cell_type": "code",
   "execution_count": 15,
   "id": "5b209e82-8cc6-4082-aace-56fbc5f73f4d",
   "metadata": {},
   "outputs": [
    {
     "name": "stdout",
     "output_type": "stream",
     "text": [
      "['2', '4->49', '51->74', '76->99']\n"
     ]
    }
   ],
   "source": [
    "nums = [0, 1, 3, 50, 75]\n",
    "lower = 0\n",
    "upper = 99\n",
    "result = findMissingRanges(nums, lower, upper)\n",
    "print(result) \n"
   ]
  },
  {
   "cell_type": "markdown",
   "id": "c144a510-f071-41cd-b369-88277515412f",
   "metadata": {},
   "source": [
    "### Question 8\n",
    "Given an array of meeting time intervals where intervals[i] = [starti, endi],\n",
    "determine if a person could attend all meetings.\n"
   ]
  },
  {
   "cell_type": "code",
   "execution_count": 16,
   "id": "aec48c25-b130-4a71-8e8d-b9b649cc7984",
   "metadata": {},
   "outputs": [],
   "source": [
    "def canAttendMeetings(intervals):\n",
    "    intervals.sort(key=lambda x: x[0])  # Sort intervals based on start time\n",
    "    for i in range(1, len(intervals)):\n",
    "        if intervals[i][0] < intervals[i-1][1]:\n",
    "            return False\n",
    "    return True\n"
   ]
  },
  {
   "cell_type": "code",
   "execution_count": 17,
   "id": "a7ea37e2-7489-4570-95e6-92399ea63bc8",
   "metadata": {},
   "outputs": [
    {
     "name": "stdout",
     "output_type": "stream",
     "text": [
      "False\n"
     ]
    }
   ],
   "source": [
    "intervals = [[0, 30], [5, 10], [15, 20]]\n",
    "result = canAttendMeetings(intervals)\n",
    "print(result)\n"
   ]
  }
 ],
 "metadata": {
  "kernelspec": {
   "display_name": "Python 3 (ipykernel)",
   "language": "python",
   "name": "python3"
  },
  "language_info": {
   "codemirror_mode": {
    "name": "ipython",
    "version": 3
   },
   "file_extension": ".py",
   "mimetype": "text/x-python",
   "name": "python",
   "nbconvert_exporter": "python",
   "pygments_lexer": "ipython3",
   "version": "3.10.6"
  }
 },
 "nbformat": 4,
 "nbformat_minor": 5
}
