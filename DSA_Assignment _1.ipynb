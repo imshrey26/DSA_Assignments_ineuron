{
 "cells": [
  {
   "cell_type": "markdown",
   "id": "5eec3d07-9c41-4479-9404-989f88c2152d",
   "metadata": {},
   "source": [
    "### Q1\n",
    "Given an array of integers nums and an integer target, return indices of the two numbers such that they add up to target.\n",
    "\n",
    "You may assume that each input would have exactly one solution, and you may not use the same element twice.\n",
    "\n",
    "You can return the answer in any order"
   ]
  },
  {
   "cell_type": "code",
   "execution_count": 3,
   "id": "ba744fed-d938-465c-968f-ec51704387fd",
   "metadata": {},
   "outputs": [],
   "source": [
    "def twoSum(nums, target):\n",
    "    complement_map = {}  # Dictionary to store complements\n",
    "    \n",
    "    for i, num in enumerate(nums):\n",
    "        complement = target - num\n",
    "        if complement in complement_map:\n",
    "            return [complement_map[complement], i]\n",
    "        else:\n",
    "            complement_map[num] = i\n",
    "    \n",
    "    return []"
   ]
  },
  {
   "cell_type": "code",
   "execution_count": 4,
   "id": "5a9e705e-63d1-409f-a574-7deeb32955cb",
   "metadata": {},
   "outputs": [
    {
     "name": "stdout",
     "output_type": "stream",
     "text": [
      "[0, 1]\n"
     ]
    }
   ],
   "source": [
    "nums = [2, 7, 11, 15]\n",
    "target = 9\n",
    "result = twoSum(nums, target)\n",
    "print(result)"
   ]
  },
  {
   "cell_type": "markdown",
   "id": "45b1b3ad-412e-41fe-ac15-5eec2004be77",
   "metadata": {},
   "source": [
    "## Q2 \n",
    " Given an integer array nums and an integer val, remove all occurrences of val in nums in-place. The order of the elements may be changed. Then return the number of elements in nums which are not equal to val.\n",
    "\n",
    "Consider the number of elements in nums which are not equal to val be k, to get accepted, you need to do the following things:\n",
    "\n",
    "- Change the array nums such that the first k elements of nums contain the elements which are not equal to val. The remaining elements of nums are not important as well as the size of nums.\n",
    "- Return k."
   ]
  },
  {
   "cell_type": "code",
   "execution_count": 5,
   "id": "dc066509-f058-494b-baaf-21751975892e",
   "metadata": {},
   "outputs": [],
   "source": [
    "def removeElement(nums, val):\n",
    "    i = 0\n",
    "    j = 0\n",
    "\n",
    "    while i < len(nums):\n",
    "        if nums[i] != val:\n",
    "            nums[j] = nums[i]\n",
    "            j += 1\n",
    "        i += 1\n",
    "\n",
    "    return j"
   ]
  },
  {
   "cell_type": "code",
   "execution_count": 9,
   "id": "7b8514e1-12f0-4a09-9b30-93ee7ce023ed",
   "metadata": {},
   "outputs": [
    {
     "name": "stdout",
     "output_type": "stream",
     "text": [
      "2\n",
      "[2, 2, 2, 3]\n"
     ]
    }
   ],
   "source": [
    "nums = [3, 2, 2, 3]\n",
    "val = 3\n",
    "result = removeElement(nums, val)\n",
    "print(result)\n",
    "print(nums)   \n"
   ]
  },
  {
   "cell_type": "markdown",
   "id": "8742138e-0ddb-4413-bb7a-ed7df496de91",
   "metadata": {},
   "source": [
    "### Q3\n",
    "\n",
    "Given a sorted array of distinct integers and a target value, return the index if the target is found. If not, return the index where it would be if it were inserted in order.\n",
    "\n",
    "You must write an algorithm with O(log n) runtime complexity"
   ]
  },
  {
   "cell_type": "code",
   "execution_count": 7,
   "id": "c91786ed-bce4-40d5-bddf-67fff90dc0f1",
   "metadata": {},
   "outputs": [],
   "source": [
    "def searchInsert(nums, target):\n",
    "    start = 0\n",
    "    end = len(nums) - 1\n",
    "\n",
    "    while start <= end:\n",
    "        mid = (start + end) // 2\n",
    "\n",
    "        if nums[mid] == target:\n",
    "            return mid\n",
    "        elif nums[mid] < target:\n",
    "            start = mid + 1\n",
    "        else:\n",
    "            end = mid - 1\n",
    "\n",
    "    return start"
   ]
  },
  {
   "cell_type": "code",
   "execution_count": 10,
   "id": "79af236a-eae7-45c7-89c8-4cb730cd2a52",
   "metadata": {},
   "outputs": [
    {
     "name": "stdout",
     "output_type": "stream",
     "text": [
      "2\n"
     ]
    }
   ],
   "source": [
    "nums = [1, 3, 5, 6]\n",
    "target = 5\n",
    "result = searchInsert(nums, target)\n",
    "print(result) "
   ]
  },
  {
   "cell_type": "markdown",
   "id": "194ef5fd-6e34-401d-a6be-feaf6fa979e4",
   "metadata": {},
   "source": [
    "### Q4\n",
    "You are given a large integer represented as an integer array digits, where each digits[i] is the ith digit of the integer. The digits are ordered from most significant to least significant in left-to-right order. The large integer does not contain any leading 0's.\n",
    "\n",
    "Increment the large integer by one and return the resulting array of digits."
   ]
  },
  {
   "cell_type": "code",
   "execution_count": 11,
   "id": "045c21d3-24af-406b-9f24-b18ac4d0ad59",
   "metadata": {},
   "outputs": [],
   "source": [
    "def plusOne(digits):\n",
    "    carry = 1\n",
    "    n = len(digits)\n",
    "\n",
    "    for i in range(n - 1, -1, -1):\n",
    "        digits[i] += carry\n",
    "        carry = digits[i] // 10\n",
    "        digits[i] %= 10\n",
    "\n",
    "        if carry == 0:\n",
    "            break\n",
    "\n",
    "    if carry != 0:\n",
    "        digits.insert(0, carry)\n",
    "\n",
    "    return digits\n"
   ]
  },
  {
   "cell_type": "code",
   "execution_count": 12,
   "id": "7a97aa7f-dd6b-4cdf-89fc-1abfef0caa33",
   "metadata": {},
   "outputs": [
    {
     "name": "stdout",
     "output_type": "stream",
     "text": [
      "[1, 2, 4]\n"
     ]
    }
   ],
   "source": [
    "digits = [1, 2, 3]\n",
    "result = plusOne(digits)\n",
    "print(result) "
   ]
  },
  {
   "cell_type": "markdown",
   "id": "6cf0718b-72dc-4730-afcf-27f580c69829",
   "metadata": {},
   "source": [
    "### Q5\n",
    "\n",
    " You are given two integer arrays nums1 and nums2, sorted in non-decreasing order, and two integers m and n, representing the number of elements in nums1 and nums2 respectively.\n",
    "\n",
    "Merge nums1 and nums2 into a single array sorted in non-decreasing order.\n",
    "\n",
    "The final sorted array should not be returned by the function, but instead be stored inside the array nums1. To accommodate this, nums1 has a length of m + n, where the first m elements denote the elements that should be merged, and the last n elements are set to 0 and should be ignored. nums2 has a length of n."
   ]
  },
  {
   "cell_type": "code",
   "execution_count": 15,
   "id": "d7bbf1e0-6961-4a07-862b-61fbb40aa47a",
   "metadata": {},
   "outputs": [],
   "source": [
    "def merge(nums1, m, nums2, n):\n",
    "    p1 = m - 1\n",
    "    p2 = n - 1\n",
    "    p = m + n - 1\n",
    "\n",
    "    while p1 >= 0 and p2 >= 0:\n",
    "        if nums1[p1] > nums2[p2]:\n",
    "            nums1[p] = nums1[p1]\n",
    "            p1 -= 1\n",
    "        else:\n",
    "            nums1[p] = nums2[p2]\n",
    "            p2 -= 1\n",
    "        p -= 1\n",
    "\n",
    "    # Copy remaining elements from nums2 to nums1\n",
    "    nums1[:p2 + 1] = nums2[:p2 + 1]\n",
    "\n",
    "    return nums1\n"
   ]
  },
  {
   "cell_type": "code",
   "execution_count": 16,
   "id": "8b14e0e2-9c02-4d89-babf-de601ef866f0",
   "metadata": {},
   "outputs": [
    {
     "name": "stdout",
     "output_type": "stream",
     "text": [
      "[1, 2, 2, 3, 5, 6]\n"
     ]
    }
   ],
   "source": [
    "nums1 = [1, 2, 3, 0, 0, 0]\n",
    "m = 3\n",
    "nums2 = [2, 5, 6]\n",
    "n = 3\n",
    "result = merge(nums1, m, nums2, n)\n",
    "print(result)  \n",
    "\n"
   ]
  },
  {
   "cell_type": "markdown",
   "id": "1b4d94f5-1b0f-4463-8246-a8aea6ab02a2",
   "metadata": {},
   "source": [
    "### Q6\n",
    "\n",
    "Given an integer array nums, return true if any value appears at least twice in the array, and return false if every element is distinct."
   ]
  },
  {
   "cell_type": "code",
   "execution_count": 17,
   "id": "bb78096e-b424-4ea0-aabc-eef4fe0eae1a",
   "metadata": {},
   "outputs": [],
   "source": [
    "def containsDuplicate(nums):\n",
    "    seen = set()\n",
    "\n",
    "    for num in nums:\n",
    "        if num in seen:\n",
    "            return True\n",
    "        seen.add(num)\n",
    "\n",
    "    return False\n"
   ]
  },
  {
   "cell_type": "code",
   "execution_count": 18,
   "id": "268c92b2-e179-4b74-9119-c6d50fa6d085",
   "metadata": {},
   "outputs": [
    {
     "name": "stdout",
     "output_type": "stream",
     "text": [
      "False\n",
      "True\n"
     ]
    }
   ],
   "source": [
    "nums = [1, 2, 3, 4, 5]\n",
    "result = containsDuplicate(nums)\n",
    "print(result)  \n",
    "\n",
    "nums = [1, 2, 3, 1]\n",
    "result = containsDuplicate(nums)\n",
    "print(result) \n"
   ]
  },
  {
   "cell_type": "markdown",
   "id": "88e071f0-aa9a-45d4-b26c-b9239b777a7a",
   "metadata": {},
   "source": [
    "### Q7: \n",
    "\n",
    "Given an integer array nums, move all 0's to the end of it while maintaining the relative order of the nonzero elements.\n",
    "\n",
    "Note that you must do this in-place without making a copy of the array.\n"
   ]
  },
  {
   "cell_type": "code",
   "execution_count": 19,
   "id": "43d15250-a70e-43e1-99f7-e714621389a4",
   "metadata": {},
   "outputs": [],
   "source": [
    "def moveZeroes(nums):\n",
    "    pos = 0\n",
    "\n",
    "    for num in nums:\n",
    "        if num != 0:\n",
    "            nums[pos] = num\n",
    "            pos += 1\n",
    "\n",
    "    # Fill the remaining positions with zeros\n",
    "    nums[pos:] = [0] * (len(nums) - pos)\n",
    "\n",
    "    return nums\n"
   ]
  },
  {
   "cell_type": "code",
   "execution_count": 20,
   "id": "d6fa453b-2f6f-4f24-91e0-c123f52c5513",
   "metadata": {},
   "outputs": [
    {
     "name": "stdout",
     "output_type": "stream",
     "text": [
      "[1, 3, 12, 0, 0]\n"
     ]
    }
   ],
   "source": [
    "nums = [0, 1, 0, 3, 12]\n",
    "result = moveZeroes(nums)\n",
    "print(result) "
   ]
  },
  {
   "cell_type": "markdown",
   "id": "41853919-01aa-4237-a01e-0f8945c4e854",
   "metadata": {},
   "source": [
    "### Q8\n",
    "\n",
    " You have a set of integers s, which originally contains all the numbers from 1 to n. Unfortunately, due to some error, one of the numbers in s got duplicated to another number in the set, which results in repetition of one number and loss of another number.\n",
    "\n",
    "You are given an integer array nums representing the data status of this set after the error.\n",
    "\n",
    "Find the number that occurs twice and the number that is missing and return them in the form of an array."
   ]
  },
  {
   "cell_type": "code",
   "execution_count": 21,
   "id": "795514bc-9e38-48df-b223-6dabf9bddc21",
   "metadata": {},
   "outputs": [],
   "source": [
    "def findErrorNums(nums):\n",
    "    numSet = set()\n",
    "    duplicate = 0\n",
    "    missing = 0\n",
    "\n",
    "    for num in nums:\n",
    "        if num in numSet:\n",
    "            duplicate = num\n",
    "        numSet.add(num)\n",
    "\n",
    "    n = len(nums)\n",
    "    expectedSum = (n * (n + 1)) // 2\n",
    "    actualSum = sum(nums)\n",
    "    missing = expectedSum - actualSum + duplicate\n",
    "\n",
    "    return [duplicate, missing]\n"
   ]
  },
  {
   "cell_type": "code",
   "execution_count": 22,
   "id": "e89bad6a-c8d9-4f41-9a0f-fed47f76dfa0",
   "metadata": {},
   "outputs": [
    {
     "name": "stdout",
     "output_type": "stream",
     "text": [
      "[2, 3]\n"
     ]
    }
   ],
   "source": [
    "nums = [1, 2, 2, 4]\n",
    "result = findErrorNums(nums)\n",
    "print(result)  "
   ]
  },
  {
   "cell_type": "code",
   "execution_count": null,
   "id": "1b2a77fd-1afe-4cbb-9e92-957f737d832f",
   "metadata": {},
   "outputs": [],
   "source": []
  }
 ],
 "metadata": {
  "kernelspec": {
   "display_name": "Python 3 (ipykernel)",
   "language": "python",
   "name": "python3"
  },
  "language_info": {
   "codemirror_mode": {
    "name": "ipython",
    "version": 3
   },
   "file_extension": ".py",
   "mimetype": "text/x-python",
   "name": "python",
   "nbconvert_exporter": "python",
   "pygments_lexer": "ipython3",
   "version": "3.10.6"
  }
 },
 "nbformat": 4,
 "nbformat_minor": 5
}
