{
 "cells": [
  {
   "cell_type": "markdown",
   "id": "d7f12a47-302d-46aa-80bf-1f9d0807bb74",
   "metadata": {},
   "source": [
    "### Question 1\n",
    "\n",
    "Convert 1D Array Into 2D Array\n",
    "\n",
    "You are given a **0-indexed** 1-dimensional (1D) integer array original, and two integers, m and n. You are tasked with creating a 2-dimensional (2D) array with  m rows and n columns using **all** the elements from original.\n",
    "\n",
    "The elements from indices 0 to n - 1 (**inclusive**) of original should form the first row of the constructed 2D array, the elements from indices n to 2 * n - 1 (**inclusive**) should form the second row of the constructed 2D array, and so on.\n",
    "\n",
    "Return *an* m x n *2D array constructed according to the above procedure, or an empty 2D array if it is impossible*.\n",
    "\n"
   ]
  },
  {
   "cell_type": "code",
   "execution_count": 2,
   "id": "0ad26239-9147-4321-9c76-283503350c50",
   "metadata": {},
   "outputs": [],
   "source": [
    "def convertTo2DArray(original, m, n):\n",
    "    length = len(original)\n",
    "    if length != m * n:\n",
    "        return []\n",
    "\n",
    "    result = [[0] * n for _ in range(m)]\n",
    "    for i in range(m):\n",
    "        for j in range(n):\n",
    "            index = i * n + j\n",
    "            result[i][j] = original[index]\n",
    "\n",
    "    return result\n"
   ]
  },
  {
   "cell_type": "code",
   "execution_count": 3,
   "id": "37238b95-71d5-457c-9a91-ea930aac6c51",
   "metadata": {},
   "outputs": [
    {
     "name": "stdout",
     "output_type": "stream",
     "text": [
      "[[1, 2], [3, 4]]\n"
     ]
    }
   ],
   "source": [
    "original = [1, 2, 3, 4]\n",
    "m = 2\n",
    "n = 2\n",
    "\n",
    "converted_array = convertTo2DArray(original, m, n)\n",
    "print(converted_array) "
   ]
  },
  {
   "cell_type": "markdown",
   "id": "897da60f-b20e-43c1-ba97-124a60ac9348",
   "metadata": {},
   "source": [
    "### Question 2\n",
    "\n",
    "You have n coins and you want to build a staircase with these coins. The staircase consists of k rows where the ith row has exactly i coins. The last row of the staircase **may be** incomplete.\n",
    "\n",
    "Given the integer n, return *the number of **complete rows** of the staircase you will build*.\n"
   ]
  },
  {
   "cell_type": "code",
   "execution_count": 7,
   "id": "f8d3ecf8-0b4d-48b8-8a4f-9b2ccef25c7c",
   "metadata": {},
   "outputs": [],
   "source": [
    "def countCompleteRows(n):\n",
    "    k = 1\n",
    "    while (k * (k + 1)) / 2 <= n:\n",
    "        k += 1\n",
    "    return k - 1\n",
    "\n"
   ]
  },
  {
   "cell_type": "code",
   "execution_count": 8,
   "id": "536fbd3c-d776-443c-a534-e934cd7dbacf",
   "metadata": {},
   "outputs": [
    {
     "name": "stdout",
     "output_type": "stream",
     "text": [
      "2\n"
     ]
    }
   ],
   "source": [
    "n = 5\n",
    "complete_rows = countCompleteRows(n)\n",
    "print(complete_rows)  "
   ]
  },
  {
   "cell_type": "markdown",
   "id": "c0b5e1d3-b5ab-4227-b913-c1393009fc45",
   "metadata": {},
   "source": [
    "### Question 3\n",
    "\n",
    "Given an integer array nums sorted in **non-decreasing** order, return *an array of **the squares of each number** sorted in non-decreasing order*.\n",
    "\n",
    "**Example 1:**\n",
    "\n",
    "**Input:** nums = [-4,-1,0,3,10]\n",
    "\n",
    "**Output:** [0,1,9,16,100]\n",
    "\n",
    "**Explanation:** After squaring, the array becomes [16,1,0,9,100].\n",
    "\n",
    "After sorting, it becomes [0,1,9,16,100].\n"
   ]
  },
  {
   "cell_type": "code",
   "execution_count": 9,
   "id": "1d0d5b02-b30a-4f5e-8bda-526c74606893",
   "metadata": {},
   "outputs": [],
   "source": [
    "def sortedSquares(nums):\n",
    "    result = []\n",
    "    left, right = 0, len(nums) - 1\n",
    "    while left <= right:\n",
    "        left_square = nums[left] ** 2\n",
    "        right_square = nums[right] ** 2\n",
    "        if left_square > right_square:\n",
    "            result.append(left_square)\n",
    "            left += 1\n",
    "        else:\n",
    "            result.append(right_square)\n",
    "            right -= 1\n",
    "    # Append any remaining elements\n",
    "    while left < len(nums):\n",
    "        result.append(nums[left] ** 2)\n",
    "        left += 1\n",
    "    # Reverse the result list\n",
    "    return result[::-1]\n"
   ]
  },
  {
   "cell_type": "code",
   "execution_count": 10,
   "id": "76b42dfa-d11b-4cc0-9972-fefd7fa2bbc6",
   "metadata": {},
   "outputs": [
    {
     "name": "stdout",
     "output_type": "stream",
     "text": [
      "[100, 9, 0, 0, 1, 9, 16, 100]\n"
     ]
    }
   ],
   "source": [
    "nums = [-4, -1, 0, 3, 10]\n",
    "result = sortedSquares(nums)\n",
    "print(result)  # Output: [0, 1, 9, 16, 100]\n"
   ]
  },
  {
   "cell_type": "markdown",
   "id": "8e4b7335-8780-4baf-a54e-da63dde5ad38",
   "metadata": {},
   "source": [
    "### Question 4\n",
    "\n",
    "Given two **0-indexed** integer arrays nums1 and nums2, return *a list* answer *of size* 2 *where:*\n",
    "\n",
    "- answer[0] *is a list of all **distinct** integers in* nums1 *which are **not** present in* nums2*.*\n",
    "- answer[1] *is a list of all **distinct** integers in* nums2 *which are **not** present in* nums1.\n"
   ]
  },
  {
   "cell_type": "code",
   "execution_count": 11,
   "id": "4605c078-eed4-4d2b-a0f8-0401d1ac203d",
   "metadata": {},
   "outputs": [],
   "source": [
    "def findDisappearedNumbers(nums1, nums2):\n",
    "    set1 = set(nums1)\n",
    "    set2 = set(nums2)\n",
    "\n",
    "    not_in_nums2 = [num for num in nums1 if num not in set2]\n",
    "    not_in_nums1 = [num for num in nums2 if num not in set1]\n",
    "\n",
    "    return [not_in_nums1, not_in_nums2]\n"
   ]
  },
  {
   "cell_type": "code",
   "execution_count": 12,
   "id": "a55ae096-6a29-4932-8852-f615ed00d3a3",
   "metadata": {},
   "outputs": [
    {
     "name": "stdout",
     "output_type": "stream",
     "text": [
      "[[4, 6], [1, 3]]\n"
     ]
    }
   ],
   "source": [
    "nums1 = [1, 2, 3]\n",
    "nums2 = [2, 4, 6]\n",
    "result = findDisappearedNumbers(nums1, nums2)\n",
    "print(result)  \n"
   ]
  },
  {
   "cell_type": "markdown",
   "id": "e356f547-4cda-40f6-88d5-b89e97e0586a",
   "metadata": {},
   "source": [
    "### Question 5\n",
    "\n",
    "Given two integer arrays arr1 and arr2, and the integer d, *return the distance value between the two arrays*.\n",
    "\n",
    "The distance value is defined as the number of elements arr1[i] such that there is not any element arr2[j] where |arr1[i]-arr2[j]| <= d.\n"
   ]
  },
  {
   "cell_type": "code",
   "execution_count": 13,
   "id": "cbbe041d-e402-41d7-a6fd-e8e38b1c5788",
   "metadata": {},
   "outputs": [],
   "source": [
    "def findDistanceValue(arr1, arr2, d):\n",
    "    distance = 0\n",
    "    for num in arr1:\n",
    "        for num2 in arr2:\n",
    "            if abs(num - num2) <= d:\n",
    "                break\n",
    "        else:\n",
    "            distance += 1\n",
    "    return distance\n"
   ]
  },
  {
   "cell_type": "code",
   "execution_count": 14,
   "id": "3b3422b6-a294-4b09-a198-4bfe03d475ab",
   "metadata": {},
   "outputs": [
    {
     "name": "stdout",
     "output_type": "stream",
     "text": [
      "2\n"
     ]
    }
   ],
   "source": [
    "arr1 = [4, 5, 8]\n",
    "arr2 = [10, 9, 1, 8]\n",
    "d = 2\n",
    "result = findDistanceValue(arr1, arr2, d)\n",
    "print(result) "
   ]
  },
  {
   "cell_type": "markdown",
   "id": "1a25eebc-d128-4238-8111-4c14538517c9",
   "metadata": {},
   "source": [
    "### Question 6\n",
    "\n",
    "Given an integer array nums of length n where all the integers of nums are in the range [1, n] and each integer appears **once** or **twice**, return *an array of all the integers that appears **twice***.\n",
    "\n",
    "You must write an algorithm that runs in O(n) time and uses only constant extra space.\n",
    "\n",
    "</aside>"
   ]
  },
  {
   "cell_type": "code",
   "execution_count": 16,
   "id": "2560e0b2-b58c-4eb4-9598-c5998184004a",
   "metadata": {},
   "outputs": [],
   "source": [
    "def findDuplicates(nums):\n",
    "    result = []\n",
    "    for num in nums:\n",
    "        abs_num = abs(num)\n",
    "        if nums[abs_num - 1] > 0:\n",
    "            nums[abs_num - 1] *= -1\n",
    "        else:\n",
    "            result.append(abs_num)\n",
    "    return result\n"
   ]
  },
  {
   "cell_type": "code",
   "execution_count": 18,
   "id": "1ca138e4-8ac1-4b7b-98c0-7d4011ac867d",
   "metadata": {},
   "outputs": [
    {
     "name": "stdout",
     "output_type": "stream",
     "text": [
      "[2, 3]\n"
     ]
    }
   ],
   "source": [
    "nums = [4, 3, 2, 7, 8, 2, 3, 1]\n",
    "result = findDuplicates(nums)\n",
    "print(result) \n"
   ]
  },
  {
   "cell_type": "markdown",
   "id": "cce4c08e-0054-4130-ab8c-020023281b3e",
   "metadata": {},
   "source": [
    "### Question 7\n",
    "\n",
    "Suppose an array of length n sorted in ascending order is **rotated** between 1 and n times. For example, the array nums = [0,1,2,4,5,6,7] might become:\n",
    "\n",
    "- [4,5,6,7,0,1,2] if it was rotated 4 times.\n",
    "- [0,1,2,4,5,6,7] if it was rotated 7 times.\n",
    "\n",
    "Notice that **rotating** an array [a[0], a[1], a[2], ..., a[n-1]] 1 time results in the array [a[n-1], a[0], a[1], a[2], ..., a[n-2]].\n",
    "\n",
    "Given the sorted rotated array nums of **unique** elements, return *the minimum element of this array*.\n",
    "\n",
    "You must write an algorithm that runs in O(log n) time.\n",
    "\n",
    "</aside>"
   ]
  },
  {
   "cell_type": "code",
   "execution_count": 19,
   "id": "613a7dfd-57dd-475c-aadd-b6535b40d632",
   "metadata": {},
   "outputs": [],
   "source": [
    "def findMin(nums):\n",
    "    left = 0\n",
    "    right = len(nums) - 1\n",
    "\n",
    "    while left < right:\n",
    "        mid = (left + right) // 2\n",
    "\n",
    "        if nums[mid] > nums[right]:\n",
    "            left = mid + 1\n",
    "        else:\n",
    "            right = mid\n",
    "\n",
    "    return nums[left]\n"
   ]
  },
  {
   "cell_type": "code",
   "execution_count": 20,
   "id": "7fc01a94-fdd3-4a18-ba57-f2d740f956cd",
   "metadata": {},
   "outputs": [
    {
     "name": "stdout",
     "output_type": "stream",
     "text": [
      "1\n"
     ]
    }
   ],
   "source": [
    "nums = [3, 4, 5, 1, 2]\n",
    "min_element = findMin(nums)\n",
    "print(min_element)\n"
   ]
  },
  {
   "cell_type": "markdown",
   "id": "c92907a7-84bb-4bea-adb1-34485ac0745a",
   "metadata": {},
   "source": [
    "### Question 8\n",
    "\n",
    "An integer array original is transformed into a **doubled** array changed by appending **twice the value** of every element in original, and then randomly **shuffling** the resulting array.\n",
    "\n",
    "Given an array changed, return original *if* changed *is a **doubled** array. If* changed *is not a **doubled** array, return an empty array. The elements in* original *may be returned in **any** order*.\n",
    "\n",
    "</aside>"
   ]
  },
  {
   "cell_type": "code",
   "execution_count": 27,
   "id": "b2d3dd44-f00b-4382-930b-11dab8f28541",
   "metadata": {},
   "outputs": [],
   "source": [
    "from collections import defaultdict\n",
    "\n",
    "def findOriginalArray(changed):\n",
    "    count = defaultdict(int)\n",
    "\n",
    "    for num in changed:\n",
    "        count[num] += 1\n",
    "\n",
    "    original = []\n",
    "\n",
    "    for num in set(changed):\n",
    "        if num % 2 != 0 or count[num] == 0:\n",
    "            return []\n",
    "\n",
    "        for _ in range(count[num]):\n",
    "            original.append(num // 2)\n",
    "            count[num // 2] -= 1\n",
    "\n",
    "    return original\n"
   ]
  },
  {
   "cell_type": "code",
   "execution_count": 28,
   "id": "64237ac2-d3ca-4f1e-b1e1-c142b2c13164",
   "metadata": {},
   "outputs": [
    {
     "name": "stdout",
     "output_type": "stream",
     "text": [
      "[]\n"
     ]
    }
   ],
   "source": [
    "changed = [1, 3, 4, 2, 6, 8]\n",
    "original = findOriginalArray(changed)\n",
    "print(original)  "
   ]
  },
  {
   "cell_type": "code",
   "execution_count": null,
   "id": "57d72f8d-2d61-4bc1-8fe1-5455fcb02009",
   "metadata": {},
   "outputs": [],
   "source": []
  }
 ],
 "metadata": {
  "kernelspec": {
   "display_name": "Python 3 (ipykernel)",
   "language": "python",
   "name": "python3"
  },
  "language_info": {
   "codemirror_mode": {
    "name": "ipython",
    "version": 3
   },
   "file_extension": ".py",
   "mimetype": "text/x-python",
   "name": "python",
   "nbconvert_exporter": "python",
   "pygments_lexer": "ipython3",
   "version": "3.10.6"
  }
 },
 "nbformat": 4,
 "nbformat_minor": 5
}
