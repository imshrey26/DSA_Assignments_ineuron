{
 "cells": [
  {
   "cell_type": "markdown",
   "id": "661083af-2556-4e3a-a757-9901e518de0c",
   "metadata": {},
   "source": [
    "### Question 1\n",
    "\n",
    "Given an integer `n`, return *`true` if it is a power of three. Otherwise, return `false`*.\n",
    "\n",
    "An integer `n` is a power of three, if there exists an integer `x` such that `n == 3x`.\n"
   ]
  },
  {
   "cell_type": "code",
   "execution_count": 1,
   "id": "0578fcc7-80b9-4e52-9f80-68cfeadcf260",
   "metadata": {},
   "outputs": [
    {
     "name": "stdout",
     "output_type": "stream",
     "text": [
      "True\n"
     ]
    }
   ],
   "source": [
    "import math\n",
    "\n",
    "def is_power_of_three(n):\n",
    "    if n <= 0:\n",
    "        return False\n",
    "    power = math.log(n, 3)\n",
    "    return power.is_integer()\n",
    "\n",
    "# Example usage\n",
    "n = 27\n",
    "result = is_power_of_three(n)\n",
    "print(result)\n"
   ]
  },
  {
   "cell_type": "code",
   "execution_count": 2,
   "id": "741e53c7-73d5-41ca-8f2c-6fa430c50512",
   "metadata": {},
   "outputs": [
    {
     "name": "stdout",
     "output_type": "stream",
     "text": [
      "False\n"
     ]
    }
   ],
   "source": [
    "n = 10\n",
    "result = is_power_of_three(n)\n",
    "print(result)\n"
   ]
  },
  {
   "cell_type": "markdown",
   "id": "eb8e35f1-8351-48ba-b283-705436fe77c8",
   "metadata": {},
   "source": [
    "### Question 2\n",
    "\n",
    "You have a list `arr` of all integers in the range `[1, n]` sorted in a strictly increasing order. Apply the following algorithm on `arr`:\n",
    "\n",
    "- Starting from left to right, remove the first number and every other number afterward until you reach the end of the list.\n",
    "- Repeat the previous step again, but this time from right to left, remove the rightmost number and every other number from the remaining numbers.\n",
    "- Keep repeating the steps again, alternating left to right and right to left, until a single number remains.\n",
    "\n",
    "Given the integer `n`, return *the last number that remains in* `arr`."
   ]
  },
  {
   "cell_type": "code",
   "execution_count": 5,
   "id": "5843fc33-662a-4929-a95d-94027a77aa8d",
   "metadata": {},
   "outputs": [],
   "source": [
    "def last_remaining(n):\n",
    "    arr = list(range(1, n + 1))\n",
    "    left_to_right = True\n",
    "    step = 1\n",
    "\n",
    "    while len(arr) > 1:\n",
    "        if left_to_right:\n",
    "            arr = arr[step::2]  # Remove every other element from left to right\n",
    "        else:\n",
    "            arr = arr[-step::-2]  # Remove every other element from right to left\n",
    "        left_to_right = not left_to_right\n",
    "        step *= 2\n",
    "\n",
    "    return arr[0]\n",
    "\n"
   ]
  },
  {
   "cell_type": "code",
   "execution_count": 6,
   "id": "555945ea-d646-45fa-a9ef-a714800f12c2",
   "metadata": {},
   "outputs": [
    {
     "name": "stdout",
     "output_type": "stream",
     "text": [
      "2\n"
     ]
    }
   ],
   "source": [
    "n = 4\n",
    "result = last_remaining(n)\n",
    "print(result)\n"
   ]
  },
  {
   "cell_type": "markdown",
   "id": "f7b8b4fa-3593-471a-8d19-bb4081883c39",
   "metadata": {},
   "source": [
    "### Question 3\n",
    "\n",
    "****Given a set represented as a string, write a recursive code to print all subsets of it. The subsets can be printed in any order.\n",
    "\n",
    "**Example 1:**\n",
    "\n",
    "Input :  set = “abc”\n",
    "\n",
    "Output : { “”, “a”, “b”, “c”, “ab”, “ac”, “bc”, “abc”}"
   ]
  },
  {
   "cell_type": "code",
   "execution_count": 7,
   "id": "6a6e66b5-32f4-4a7d-8b14-eab7217dce17",
   "metadata": {},
   "outputs": [
    {
     "name": "stdout",
     "output_type": "stream",
     "text": [
      "['abc', 'ab', 'ac', 'a', 'bc', 'b', 'c', '']\n"
     ]
    }
   ],
   "source": [
    "def generate_subsets(set_str):\n",
    "    subsets = []\n",
    "    generate_subsets_recursive(set_str, \"\", subsets)\n",
    "    return subsets\n",
    "\n",
    "def generate_subsets_recursive(set_str, current_subset, subsets):\n",
    "    if len(set_str) == 0:\n",
    "        subsets.append(current_subset)\n",
    "        return\n",
    "\n",
    "    # Include the first character of set_str in the current subset and generate subsets for the remaining characters\n",
    "    generate_subsets_recursive(set_str[1:], current_subset + set_str[0], subsets)\n",
    "\n",
    "    # Exclude the first character of set_str and generate subsets for the remaining characters\n",
    "    generate_subsets_recursive(set_str[1:], current_subset, subsets)\n",
    "\n",
    "# Example usage\n",
    "set_str = \"abc\"\n",
    "result = generate_subsets(set_str)\n",
    "print(result)\n"
   ]
  },
  {
   "cell_type": "markdown",
   "id": "97de2824-217c-488e-92f6-a1e972390225",
   "metadata": {},
   "source": [
    "### Question 4\n",
    "\n",
    "Given a string calculate length of the string using recursion."
   ]
  },
  {
   "cell_type": "code",
   "execution_count": 10,
   "id": "b0955d58-2eec-40bb-bead-2ec18578c637",
   "metadata": {},
   "outputs": [
    {
     "name": "stdout",
     "output_type": "stream",
     "text": [
      "13\n"
     ]
    }
   ],
   "source": [
    "def calculate_length(string):\n",
    "    if string == \"\":\n",
    "        return 0\n",
    "    else:\n",
    "        return 1 + calculate_length(string[1:])\n",
    "\n",
    "# Example usage\n",
    "string = \"Hello, World!\"\n",
    "length = calculate_length(string)\n",
    "print(length)\n"
   ]
  },
  {
   "cell_type": "markdown",
   "id": "7bd31c7a-8095-4cbf-beff-8f1d0b7a4ce2",
   "metadata": {},
   "source": [
    "### Question 5\n",
    "\n",
    "We are given a string S, we need to find count of all contiguous substrings starting and ending with same character."
   ]
  },
  {
   "cell_type": "code",
   "execution_count": 9,
   "id": "4a8e4e77-270b-4b24-bab7-4ef034842456",
   "metadata": {},
   "outputs": [
    {
     "name": "stdout",
     "output_type": "stream",
     "text": [
      "5\n"
     ]
    }
   ],
   "source": [
    "def count_substrings(s):\n",
    "    count = 0\n",
    "    n = len(s)\n",
    "\n",
    "    # Iterate through each character\n",
    "    for i in range(n):\n",
    "        # Count substrings starting and ending with s[i]\n",
    "        count += 1\n",
    "\n",
    "        # Extend the substring to the right\n",
    "        j = i + 1\n",
    "        while j < n and s[j] == s[i]:\n",
    "            count += 1\n",
    "            j += 1\n",
    "\n",
    "    return count\n",
    "\n",
    "string = \"abcab\"\n",
    "count = count_substrings(string)\n",
    "print(count)\n"
   ]
  },
  {
   "cell_type": "markdown",
   "id": "a0df0812-0a78-48de-bf2e-501048e5fd40",
   "metadata": {},
   "source": [
    "# Question 6**\n",
    "\n",
    "The [tower of Hanoi is a famous puzzle where we have three rods and **N** disks. The objective of the puzzle is to move the entire stack to another rod. You are given the number of discs **N**. Initially, these discs are in the rod 1. You need to print all the steps of discs movement so that all the discs reach the 3rd rod. Also, you need to find the total moves.**Note:** The discs are arranged such that the **top disc is numbered 1** and the **bottom-most disc is numbered N**. Also, all the discs have **different sizes** and a bigger disc **cannot** be put on the top of a smaller disc"
   ]
  },
  {
   "cell_type": "code",
   "execution_count": 11,
   "id": "54168aad-187b-4b57-9ff3-f137d5e5428b",
   "metadata": {},
   "outputs": [
    {
     "name": "stdout",
     "output_type": "stream",
     "text": [
      "move disk 1 from rod 1 to rod 2\n",
      "move disk 2 from rod 1 to rod 3\n",
      "move disk 1 from rod 2 to rod 3\n",
      "3\n"
     ]
    }
   ],
   "source": [
    "def tower_of_hanoi(n, source, destination, auxiliary):\n",
    "    if n == 1:\n",
    "        print(\"move disk 1 from rod\", source, \"to rod\", destination)\n",
    "        return 1\n",
    "\n",
    "    moves = 0\n",
    "\n",
    "    moves += tower_of_hanoi(n - 1, source, auxiliary, destination)\n",
    "\n",
    "    print(\"move disk\", n, \"from rod\", source, \"to rod\", destination)\n",
    "    moves += 1\n",
    "\n",
    "    moves += tower_of_hanoi(n - 1, auxiliary, destination, source)\n",
    "\n",
    "    return moves\n",
    "\n",
    "# Example usage\n",
    "N = 2\n",
    "moves = tower_of_hanoi(N, 1, 3, 2)\n",
    "print(moves)\n"
   ]
  },
  {
   "cell_type": "markdown",
   "id": "74e2acfe-9cdd-4f0d-887b-3ee4a23deabb",
   "metadata": {},
   "source": [
    "### Question 7\n",
    "\n",
    "Given a string **str**, the task is to print all the permutations of **str**. A **permutation** is an arrangement of all or part of a set of objects, with regard to the order of the arrangement. For instance, the words ‘bat’ and ‘tab’ represents two distinct permutation (or arrangements) of a similar three letter word."
   ]
  },
  {
   "cell_type": "code",
   "execution_count": 12,
   "id": "82722088-29a8-44cb-9769-4dd6cec00d8e",
   "metadata": {},
   "outputs": [
    {
     "name": "stdout",
     "output_type": "stream",
     "text": [
      "abc\n",
      "acb\n",
      "bac\n",
      "bca\n",
      "cba\n",
      "cab\n"
     ]
    }
   ],
   "source": [
    "def permute_string(string, left, right):\n",
    "    if left == right:\n",
    "        print(\"\".join(string))\n",
    "    else:\n",
    "        for i in range(left, right + 1):\n",
    "            # Swap characters\n",
    "            string[left], string[i] = string[i], string[left]\n",
    "            # Recursively permute the remaining characters\n",
    "            permute_string(string, left + 1, right)\n",
    "            # Restore the original order\n",
    "            string[left], string[i] = string[i], string[left]\n",
    "\n",
    "# Example usage\n",
    "str = \"abc\"\n",
    "n = len(str)\n",
    "permute_string(list(str), 0, n - 1)\n"
   ]
  },
  {
   "cell_type": "markdown",
   "id": "bc0a7093-d448-4998-b05d-7c9241809a14",
   "metadata": {},
   "source": [
    "### Question 8\n",
    "\n",
    "Given a string, count total number of consonants in it. A consonant is an English alphabet character that is not vowel (a, e, i, o and u). Examples of constants are b, c, d, f, and g."
   ]
  },
  {
   "cell_type": "code",
   "execution_count": 13,
   "id": "d13625c7-c031-46ea-95c1-74ee44f69621",
   "metadata": {},
   "outputs": [
    {
     "name": "stdout",
     "output_type": "stream",
     "text": [
      "7\n"
     ]
    }
   ],
   "source": [
    "def count_consonants(string):\n",
    "    consonants = \"bcdfghjklmnpqrstvwxyzBCDFGHJKLMNPQRSTVWXYZ\"\n",
    "    count = 0\n",
    "    for char in string:\n",
    "        if char in consonants:\n",
    "            count += 1\n",
    "    return count\n",
    "\n",
    "# Example usage\n",
    "str = \"Hello World\"\n",
    "result = count_consonants(str)\n",
    "print(result)\n"
   ]
  },
  {
   "cell_type": "code",
   "execution_count": null,
   "id": "67740c13-5d82-44ba-b294-6030ee269c13",
   "metadata": {},
   "outputs": [],
   "source": []
  }
 ],
 "metadata": {
  "kernelspec": {
   "display_name": "Python 3 (ipykernel)",
   "language": "python",
   "name": "python3"
  },
  "language_info": {
   "codemirror_mode": {
    "name": "ipython",
    "version": 3
   },
   "file_extension": ".py",
   "mimetype": "text/x-python",
   "name": "python",
   "nbconvert_exporter": "python",
   "pygments_lexer": "ipython3",
   "version": "3.10.6"
  }
 },
 "nbformat": 4,
 "nbformat_minor": 5
}
