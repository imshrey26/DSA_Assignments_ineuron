{
 "cells": [
  {
   "cell_type": "markdown",
   "id": "8e918d31-45c5-4022-b127-2f5df93f24b1",
   "metadata": {},
   "source": [
    "### Question 1\n",
    "\n",
    "Given two strings s1 and s2, return *the lowest **ASCII** sum of deleted characters to make two strings equal"
   ]
  },
  {
   "cell_type": "code",
   "execution_count": 1,
   "id": "6d1ee517-504f-4dd7-908f-75673e2a268d",
   "metadata": {},
   "outputs": [],
   "source": [
    "def minDeleteSum(s1, s2):\n",
    "    m, n = len(s1), len(s2)\n",
    "\n",
    "    # Create a table to store the minimum sum of deleted characters\n",
    "    dp = [[0] * (n + 1) for _ in range(m + 1)]\n",
    "\n",
    "    # Initialize the first row and column of the table\n",
    "    for i in range(1, m + 1):\n",
    "        dp[i][0] = dp[i - 1][0] + ord(s1[i - 1])\n",
    "    for j in range(1, n + 1):\n",
    "        dp[0][j] = dp[0][j - 1] + ord(s2[j - 1])\n",
    "\n",
    "    # Fill in the rest of the table\n",
    "    for i in range(1, m + 1):\n",
    "        for j in range(1, n + 1):\n",
    "            if s1[i - 1] == s2[j - 1]:\n",
    "                dp[i][j] = dp[i - 1][j - 1]\n",
    "            else:\n",
    "                dp[i][j] = min(dp[i - 1][j] + ord(s1[i - 1]), dp[i][j - 1] + ord(s2[j - 1]))\n",
    "\n",
    "    return dp[m][n]\n"
   ]
  },
  {
   "cell_type": "code",
   "execution_count": 2,
   "id": "827b5925-3a78-4bda-85be-5c2c9ee02225",
   "metadata": {},
   "outputs": [
    {
     "name": "stdout",
     "output_type": "stream",
     "text": [
      "231\n"
     ]
    }
   ],
   "source": [
    "s1 = \"sea\"\n",
    "s2 = \"eat\"\n",
    "result = minDeleteSum(s1, s2)\n",
    "print(result) \n"
   ]
  },
  {
   "cell_type": "markdown",
   "id": "ced76752-c101-4a0a-9bba-4dd1dd433766",
   "metadata": {},
   "source": [
    "### Question 2\n",
    "\n",
    "Given a string s containing only three types of characters: '(', ')' and '*', return true *if* s *is **valid***.\n",
    "\n",
    "The following rules define a **valid** string:\n",
    "\n",
    "- Any left parenthesis '(' must have a corresponding right parenthesis ')'.\n",
    "- Any right parenthesis ')' must have a corresponding left parenthesis '('.\n",
    "- Left parenthesis '(' must go before the corresponding right parenthesis ')'.\n",
    "- '*' could be treated as a single right parenthesis ')' or a single left parenthesis '(' or an empty string \"\"."
   ]
  },
  {
   "cell_type": "code",
   "execution_count": 3,
   "id": "ed155381-eb74-4955-bdb2-b219a3cb1b0e",
   "metadata": {},
   "outputs": [],
   "source": [
    "def isValid(s):\n",
    "    stack = []\n",
    "    star_count = 0\n",
    "\n",
    "    for char in s:\n",
    "        if char == '(':\n",
    "            stack.append('(')\n",
    "        elif char == ')':\n",
    "            if stack:\n",
    "                stack.pop()\n",
    "            elif star_count > 0:\n",
    "                star_count -= 1\n",
    "            else:\n",
    "                return False\n",
    "        elif char == '*':\n",
    "            star_count += 1\n",
    "\n",
    "    while stack and star_count > 0:\n",
    "        stack.pop()\n",
    "        star_count -= 1\n",
    "\n",
    "    return len(stack) == 0\n"
   ]
  },
  {
   "cell_type": "code",
   "execution_count": 4,
   "id": "f0972def-38fa-4872-9fc2-7ca58f2cae75",
   "metadata": {},
   "outputs": [
    {
     "name": "stdout",
     "output_type": "stream",
     "text": [
      "True\n"
     ]
    }
   ],
   "source": [
    "s = \"()\"  \n",
    "result = isValid(s)\n",
    "print(result) \n"
   ]
  },
  {
   "cell_type": "markdown",
   "id": "6723ccc8-8457-48e1-bc64-01ba3b35c34b",
   "metadata": {},
   "source": [
    "### Question 3**\n",
    "\n",
    "Given two strings word1 and word2, return *the minimum number of **steps** required to make* word1 *and* word2 *the same*.\n",
    "\n",
    "In one **step**, you can delete exactly one character in either string.\n",
    "\n"
   ]
  },
  {
   "cell_type": "code",
   "execution_count": 6,
   "id": "941cdc5a-d7d6-44d3-9c07-05a17d5a4b8d",
   "metadata": {},
   "outputs": [],
   "source": [
    "def minSteps(word1, word2):\n",
    "    m, n = len(word1), len(word2)\n",
    "\n",
    "    # Create a 2D table to store the LCS lengths\n",
    "    dp = [[0] * (n + 1) for _ in range(m + 1)]\n",
    "\n",
    "    # Compute the LCS lengths\n",
    "    for i in range(1, m + 1):\n",
    "        for j in range(1, n + 1):\n",
    "            if word1[i - 1] == word2[j - 1]:\n",
    "                dp[i][j] = dp[i - 1][j - 1] + 1\n",
    "            else:\n",
    "                dp[i][j] = max(dp[i - 1][j], dp[i][j - 1])\n",
    "\n",
    "    # Compute the minimum number of steps\n",
    "    lcs_length = dp[m][n]\n",
    "    steps = m + n - 2 * lcs_length\n",
    "\n",
    "    return steps\n"
   ]
  },
  {
   "cell_type": "code",
   "execution_count": 7,
   "id": "6674f336-6422-4431-98f2-0ee26b3dc44a",
   "metadata": {},
   "outputs": [
    {
     "name": "stdout",
     "output_type": "stream",
     "text": [
      "2\n"
     ]
    }
   ],
   "source": [
    "word1 = \"sea\"  \n",
    "word2 = \"eat\"  \n",
    "result = minSteps(word1, word2)\n",
    "print(result)  "
   ]
  },
  {
   "cell_type": "markdown",
   "id": "fc849d8a-9dad-4eb8-a51d-564e6303cca9",
   "metadata": {},
   "source": [
    "### Question 4\n",
    "\n",
    "You need to construct a binary tree from a string consisting of parenthesis and integers.\n",
    "\n",
    "The whole input represents a binary tree. It contains an integer followed by zero, one or two pairs of parenthesis. The integer represents the root's value and a pair of parenthesis contains a child binary tree with the same structure.\n",
    "You always start to construct the **left** child node of the parent first if it exists.\n"
   ]
  },
  {
   "cell_type": "code",
   "execution_count": 8,
   "id": "897aefde-5d4e-4fbd-97e3-1374bba8e9f4",
   "metadata": {},
   "outputs": [],
   "source": [
    "class TreeNode:\n",
    "    def __init__(self, val=0, left=None, right=None):\n",
    "        self.val = val\n",
    "        self.left = left\n",
    "        self.right = right\n",
    "\n",
    "def str2tree(s):\n",
    "    if not s:\n",
    "        return None\n",
    "\n",
    "    # Find the value of the root node\n",
    "    i = 0\n",
    "    while i < len(s) and (s[i].isdigit() or s[i] == '-'):\n",
    "        i += 1\n",
    "    val = int(s[:i])\n",
    "\n",
    "    # Create the root node\n",
    "    root = TreeNode(val)\n",
    "\n",
    "    # Check if there are any left or right children\n",
    "    if i < len(s):\n",
    "        count = 0\n",
    "        j = i\n",
    "        while j < len(s):\n",
    "            if s[j] == '(':\n",
    "                count += 1\n",
    "            elif s[j] == ')':\n",
    "                count -= 1\n",
    "            if count == 0:\n",
    "                break\n",
    "            j += 1\n",
    "\n",
    "        # Construct the left child recursively\n",
    "        root.left = str2tree(s[i+1:j])\n",
    "\n",
    "        # Construct the right child recursively\n",
    "        root.right = str2tree(s[j+2:-1])\n",
    "\n",
    "    return root\n"
   ]
  },
  {
   "cell_type": "code",
   "execution_count": 13,
   "id": "8ade2186-3442-4a04-ad68-eadf96b4cd95",
   "metadata": {},
   "outputs": [],
   "source": [
    "s = \"4(2(3)(1))(6(5))\"  \n",
    "root = str2tree(s)"
   ]
  },
  {
   "cell_type": "markdown",
   "id": "9788eb7d-68af-4055-a1e8-dc6142943b7d",
   "metadata": {},
   "source": [
    "## Question 5\n",
    "\n",
    "Given an array of characters chars, compress it using the following algorithm:\n",
    "\n",
    "Begin with an empty string s. For each group of **consecutive repeating characters** in chars:\n",
    "\n",
    "- If the group's length is 1, append the character to s.\n",
    "- Otherwise, append the character followed by the group's length.\n",
    "\n",
    "The compressed string s **should not be returned separately**, but instead, be stored **in the input character array chars**. Note that group lengths that are 10 or longer will be split into multiple characters in chars.\n",
    "\n",
    "After you are done **modifying the input array,** return *the new length of the array*.\n",
    "\n",
    "You must write an algorithm that uses only constant extra space.\n"
   ]
  },
  {
   "cell_type": "code",
   "execution_count": 15,
   "id": "38929309-fd7a-4870-b174-265e43d70d3f",
   "metadata": {},
   "outputs": [],
   "source": [
    "def compress(chars):\n",
    "    if not chars:\n",
    "        return 0\n",
    "\n",
    "    count = 1\n",
    "    write_idx = 0\n",
    "\n",
    "    for i in range(1, len(chars)):\n",
    "        if chars[i] == chars[i-1]:\n",
    "            count += 1\n",
    "        else:\n",
    "            chars[write_idx] = chars[i-1]\n",
    "            write_idx += 1\n",
    "\n",
    "            if count > 1:\n",
    "                count_str = str(count)\n",
    "                for j in range(len(count_str)):\n",
    "                    chars[write_idx] = count_str[j]\n",
    "                    write_idx += 1\n",
    "\n",
    "            count = 1\n",
    "\n",
    "    # Update the last character\n",
    "    chars[write_idx] = chars[-1]\n",
    "    write_idx += 1\n",
    "\n",
    "    if count > 1:\n",
    "        count_str = str(count)\n",
    "        for j in range(len(count_str)):\n",
    "            chars[write_idx] = count_str[j]\n",
    "            write_idx += 1\n",
    "\n",
    "    return write_idx\n"
   ]
  },
  {
   "cell_type": "code",
   "execution_count": 17,
   "id": "d7d93ece-fe40-4723-9d81-7b570fbbdb06",
   "metadata": {},
   "outputs": [
    {
     "data": {
      "text/plain": [
       "['a', '2', 'b', '2', 'c', '3']"
      ]
     },
     "execution_count": 17,
     "metadata": {},
     "output_type": "execute_result"
    }
   ],
   "source": [
    "chars = [\"a\",\"a\",\"b\",\"b\",\"c\",\"c\",\"c\"]  # Example array\n",
    "length = compress(chars)\n",
    "compressed_chars = chars[:length]  \n",
    "compressed_chars"
   ]
  },
  {
   "cell_type": "markdown",
   "id": "e9440d0f-8d83-4212-9f34-69311d0d391e",
   "metadata": {},
   "source": [
    "### Question 6\n",
    "\n",
    "Given two strings s and p, return *an array of all the start indices of* p*'s anagrams in* s. You may return the answer in **any order**.\n",
    "\n",
    "An **Anagram** is a word or phrase formed by rearranging the letters of a different word or phrase, typically using all the original letters exactly once.\n",
    "\n"
   ]
  },
  {
   "cell_type": "code",
   "execution_count": 18,
   "id": "baa9c10e-0627-4e54-9208-788515e40b4b",
   "metadata": {},
   "outputs": [],
   "source": [
    "from collections import defaultdict\n",
    "\n",
    "def findAnagrams(s, p):\n",
    "    target_freq = defaultdict(int)\n",
    "    window_freq = defaultdict(int)\n",
    "    count = 0\n",
    "    result = []\n",
    "\n",
    "    # Store the frequency of characters in p\n",
    "    for char in p:\n",
    "        target_freq[char] += 1\n",
    "\n",
    "    left = 0\n",
    "    for right in range(len(s)):\n",
    "        # Expand the window\n",
    "        window_freq[s[right]] += 1\n",
    "        if window_freq[s[right]] <= target_freq[s[right]]:\n",
    "            count += 1\n",
    "\n",
    "        # Shrink the window if its size is equal to p's length\n",
    "        if right - left + 1 == len(p):\n",
    "            if count == len(p):\n",
    "                result.append(left)\n",
    "\n",
    "            # Move the window\n",
    "            if window_freq[s[left]] <= target_freq[s[left]]:\n",
    "                count -= 1\n",
    "            window_freq[s[left]] -= 1\n",
    "            left += 1\n",
    "\n",
    "    return result\n"
   ]
  },
  {
   "cell_type": "code",
   "execution_count": 19,
   "id": "c5ee7456-4cbb-46aa-8dcd-eca2ae73346a",
   "metadata": {},
   "outputs": [
    {
     "name": "stdout",
     "output_type": "stream",
     "text": [
      "[0, 6]\n"
     ]
    }
   ],
   "source": [
    "s = \"cbaebabacd\"\n",
    "p = \"abc\"\n",
    "result = findAnagrams(s, p)\n",
    "print(result)\n"
   ]
  },
  {
   "cell_type": "markdown",
   "id": "91cc8334-fdd7-467c-8fbe-acddc8fed00e",
   "metadata": {},
   "source": [
    "### Question 7\n",
    "\n",
    "Given an encoded string, return its decoded string.\n",
    "\n",
    "The encoding rule is: k[encoded_string], where the encoded_string inside the square brackets is being repeated exactly k times. Note that k is guaranteed to be a positive integer.\n",
    "\n",
    "You may assume that the input string is always valid; there are no extra white spaces, square brackets are well-formed, etc. Furthermore, you may assume that the original data does not contain any digits and that digits are only for those repeat numbers, k. For example, there will not be input like 3a or 2[4].\n",
    "\n",
    "The test cases are generated so that the length of the output will never exceed 105.\n"
   ]
  },
  {
   "cell_type": "code",
   "execution_count": 20,
   "id": "9d279934-d23c-4691-a069-bb0526d70837",
   "metadata": {},
   "outputs": [],
   "source": [
    "def decodeString(s):\n",
    "    stack = []\n",
    "    \n",
    "    for c in s:\n",
    "        if c == ']':\n",
    "            # Decoding process\n",
    "            decoded_str = \"\"\n",
    "            while stack and stack[-1] != '[':\n",
    "                decoded_str += stack.pop()\n",
    "            stack.pop()  # Pop the '['\n",
    "            k = int(stack.pop())\n",
    "            repeated_str = decoded_str[::-1] * k\n",
    "            stack.append(repeated_str)\n",
    "        else:\n",
    "            stack.append(c)\n",
    "    \n",
    "    decoded = \"\"\n",
    "    while stack:\n",
    "        decoded += stack.pop()\n",
    "    \n",
    "    return decoded[::-1]\n",
    "\n"
   ]
  },
  {
   "cell_type": "code",
   "execution_count": 21,
   "id": "ea14e8de-ca71-4018-bfc3-f9fac3a6f66c",
   "metadata": {},
   "outputs": [
    {
     "name": "stdout",
     "output_type": "stream",
     "text": [
      "aaacbcb\n"
     ]
    }
   ],
   "source": [
    "s = \"3[a]2[bc]\"\n",
    "decoded = decodeString(s)\n",
    "print(decoded)\n"
   ]
  },
  {
   "cell_type": "markdown",
   "id": "4c727a3a-7d50-4473-b64d-b2d61d6d5974",
   "metadata": {},
   "source": [
    "### Question 8\n",
    "\n",
    "Given two strings s and goal, return true *if you can swap two letters in* s *so the result is equal to* goal*, otherwise, return* false*.*\n",
    "\n",
    "Swapping letters is defined as taking two indices i and j (0-indexed) such that i != j and swapping the characters at s[i] and s[j].\n",
    "\n",
    "- For example, swapping at indices 0 and 2 in \"abcd\" results in \"cbad\".\n"
   ]
  },
  {
   "cell_type": "code",
   "execution_count": 22,
   "id": "cbbc464e-aa4e-41f5-91b4-99cfb66b7962",
   "metadata": {},
   "outputs": [],
   "source": [
    "def canSwap(s, goal):\n",
    "    diff_count = 0\n",
    "    \n",
    "    for i in range(len(s)):\n",
    "        if s[i] != goal[i]:\n",
    "            diff_count += 1\n",
    "    \n",
    "    return diff_count == 2\n"
   ]
  },
  {
   "cell_type": "code",
   "execution_count": 23,
   "id": "393cc7d1-d86a-4767-bdee-fe3525b1a7fb",
   "metadata": {},
   "outputs": [
    {
     "name": "stdout",
     "output_type": "stream",
     "text": [
      "True\n"
     ]
    }
   ],
   "source": [
    "s = \"ab\"\n",
    "goal = \"ba\"\n",
    "result = canSwap(s, goal)\n",
    "print(result)\n"
   ]
  },
  {
   "cell_type": "code",
   "execution_count": null,
   "id": "b397f08d-1d39-4fae-baa1-7e5a0a3f68e2",
   "metadata": {},
   "outputs": [],
   "source": []
  }
 ],
 "metadata": {
  "kernelspec": {
   "display_name": "Python 3 (ipykernel)",
   "language": "python",
   "name": "python3"
  },
  "language_info": {
   "codemirror_mode": {
    "name": "ipython",
    "version": 3
   },
   "file_extension": ".py",
   "mimetype": "text/x-python",
   "name": "python",
   "nbconvert_exporter": "python",
   "pygments_lexer": "ipython3",
   "version": "3.10.6"
  }
 },
 "nbformat": 4,
 "nbformat_minor": 5
}
