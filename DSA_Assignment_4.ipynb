{
 "cells": [
  {
   "cell_type": "markdown",
   "id": "441a4826-7559-4819-88d3-8c81ca5ccf57",
   "metadata": {},
   "source": [
    "### Question 1\n",
    "Given three integer arrays arr1, arr2 and arr3 **sorted** in **strictly increasing** order, return a sorted array of **only** the integers that appeared in **all** three arrays.\n"
   ]
  },
  {
   "cell_type": "code",
   "execution_count": 1,
   "id": "4d58dace-dcf0-4ff3-9def-dabff62dd36e",
   "metadata": {},
   "outputs": [],
   "source": [
    "def commonElements(arr1, arr2, arr3):\n",
    "    ptr1 = ptr2 = ptr3 = 0\n",
    "    result = set()\n",
    "\n",
    "    while ptr1 < len(arr1) and ptr2 < len(arr2) and ptr3 < len(arr3):\n",
    "        if arr1[ptr1] == arr2[ptr2] == arr3[ptr3]:\n",
    "            result.add(arr1[ptr1])\n",
    "            ptr1 += 1\n",
    "            ptr2 += 1\n",
    "            ptr3 += 1\n",
    "        else:\n",
    "            min_val = min(arr1[ptr1], arr2[ptr2], arr3[ptr3])\n",
    "            if arr1[ptr1] == min_val:\n",
    "                ptr1 += 1\n",
    "            if arr2[ptr2] == min_val:\n",
    "                ptr2 += 1\n",
    "            if arr3[ptr3] == min_val:\n",
    "                ptr3 += 1\n",
    "\n",
    "    return sorted(list(result))\n"
   ]
  },
  {
   "cell_type": "code",
   "execution_count": 2,
   "id": "84830bc3-937f-408c-a170-05382119b2be",
   "metadata": {},
   "outputs": [
    {
     "name": "stdout",
     "output_type": "stream",
     "text": [
      "[1, 5]\n"
     ]
    }
   ],
   "source": [
    "arr1 = [1,2,3,4,5]\n",
    "arr2 = [1,2,5,7,9]\n",
    "arr3 = [1,3,4,5,8]\n",
    "result = commonElements(arr1, arr2, arr3)\n",
    "print(result) "
   ]
  },
  {
   "cell_type": "markdown",
   "id": "0435f9f6-0778-4904-8178-22789b3bd70d",
   "metadata": {},
   "source": [
    "### Question 2\n",
    "\n",
    "Given two **0-indexed** integer arrays nums1 and nums2, return *a list* answer *of size* 2 *where:*\n",
    "\n",
    "- answer[0] *is a list of all **distinct** integers in* nums1 *which are **not** present in* nums2*.*\n",
    "- answer[1] *is a list of all **distinct** integers in* nums2 *which are **not** present in* nums1.\n",
    "\n",
    "**Note** that the integers in the lists may be returned in **any** order.\n"
   ]
  },
  {
   "cell_type": "code",
   "execution_count": 3,
   "id": "79b3b3f9-377e-4dd1-9aa1-464dd4e0162c",
   "metadata": {},
   "outputs": [],
   "source": [
    "def findDistinct(nums1, nums2):\n",
    "    set1 = set(nums1)\n",
    "    set2 = set(nums2)\n",
    "    \n",
    "    diff1 = list(set1 - set2)\n",
    "    diff2 = list(set2 - set1)\n",
    "    \n",
    "    return [diff1, diff2]\n"
   ]
  },
  {
   "cell_type": "code",
   "execution_count": 4,
   "id": "02cbb554-fc15-4488-bacc-51db04e6477b",
   "metadata": {},
   "outputs": [
    {
     "name": "stdout",
     "output_type": "stream",
     "text": [
      "[[1, 3], [4, 6]]\n"
     ]
    }
   ],
   "source": [
    "nums1 = [1,2,3]\n",
    "nums2 = [2,4,6]\n",
    "result = findDistinct(nums1, nums2)\n",
    "print(result) \n"
   ]
  },
  {
   "cell_type": "markdown",
   "id": "252dc748-2beb-4494-a078-2ec822d3ea6b",
   "metadata": {},
   "source": [
    "### Question 3\n",
    "\n",
    "Given a 2D integer array matrix, return *the **transpose** of* matrix.\n",
    "\n",
    "The **transpose** of a matrix is the matrix flipped over its main diagonal, switching the matrix's row and column indices.\n",
    "\n"
   ]
  },
  {
   "cell_type": "code",
   "execution_count": 5,
   "id": "5fe4f834-fc92-4525-adcd-089cc464b362",
   "metadata": {},
   "outputs": [],
   "source": [
    "def transpose(matrix):\n",
    "    n = len(matrix)  # Number of rows in the original matrix\n",
    "    m = len(matrix[0])  # Number of columns in the original matrix\n",
    "\n",
    "    result = [[0] * n for _ in range(m)]  # Create an empty result matrix\n",
    "\n",
    "    for i in range(n):\n",
    "        for j in range(m):\n",
    "            result[j][i] = matrix[i][j]  # Swap the elements at (i, j) and (j, i)\n",
    "\n",
    "    return result\n"
   ]
  },
  {
   "cell_type": "code",
   "execution_count": 7,
   "id": "b6f734b9-8be1-4fd6-8c7e-e695ee66f8c0",
   "metadata": {},
   "outputs": [
    {
     "name": "stdout",
     "output_type": "stream",
     "text": [
      "[[1, 4, 7], [2, 5, 8], [3, 6, 9]]\n"
     ]
    }
   ],
   "source": [
    "matrix = [[1,2,3],[4,5,6],[7,8,9]]\n",
    "result = transpose(matrix)\n",
    "print(result) \n"
   ]
  },
  {
   "cell_type": "markdown",
   "id": "a4a92be1-04c6-45b7-b3c0-58f0620f8022",
   "metadata": {},
   "source": [
    "### Question 4\n",
    "\n",
    "Given an integer array nums of 2n integers, group these integers into n pairs (a1, b1), (a2, b2), ..., (an, bn) such that the sum of min(ai, bi) for all i is **maximized**. Return *the maximized sum*.\n"
   ]
  },
  {
   "cell_type": "code",
   "execution_count": 8,
   "id": "8f1d07c0-4ab0-484d-838a-813b92de8920",
   "metadata": {},
   "outputs": [],
   "source": [
    "def arrayPairSum(nums):\n",
    "    nums.sort()  # Sort the array in ascending order\n",
    "    max_sum = 0\n",
    "\n",
    "    for i in range(0, len(nums), 2):\n",
    "        max_sum += nums[i]\n",
    "\n",
    "    return max_sum\n"
   ]
  },
  {
   "cell_type": "code",
   "execution_count": 9,
   "id": "d85e4f19-3838-408b-982f-41d073375ab7",
   "metadata": {},
   "outputs": [
    {
     "name": "stdout",
     "output_type": "stream",
     "text": [
      "4\n"
     ]
    }
   ],
   "source": [
    "nums = [1, 4, 3, 2]\n",
    "max_sum = arrayPairSum(nums)\n",
    "print(max_sum)\n"
   ]
  },
  {
   "cell_type": "markdown",
   "id": "5c4be7f9-611d-4ff6-bff8-4b2b08d583fa",
   "metadata": {},
   "source": [
    "### Question 5\n",
    "\n",
    "You have n coins and you want to build a staircase with these coins. The staircase consists of k rows where the ith row has exactly i coins. The last row of the staircase **may be** incomplete.\n",
    "\n",
    "Given the integer n, return *the number of **complete rows** of the staircase you will build*.\n"
   ]
  },
  {
   "cell_type": "code",
   "execution_count": 10,
   "id": "d76c10f7-6e38-4981-8b05-edea1bb06690",
   "metadata": {},
   "outputs": [],
   "source": [
    "def arrangeCoins(n):\n",
    "    left = 0\n",
    "    right = n\n",
    "\n",
    "    while left <= right:\n",
    "        mid = (left + right) // 2\n",
    "        total = mid * (mid + 1) // 2\n",
    "\n",
    "        if total <= n:\n",
    "            left = mid + 1\n",
    "        else:\n",
    "            right = mid - 1\n",
    "\n",
    "    return right\n"
   ]
  },
  {
   "cell_type": "code",
   "execution_count": 11,
   "id": "5f4f96e2-3612-469b-9d8a-23e7d4e04a48",
   "metadata": {},
   "outputs": [
    {
     "name": "stdout",
     "output_type": "stream",
     "text": [
      "3\n"
     ]
    }
   ],
   "source": [
    "n = 8\n",
    "complete_rows = arrangeCoins(n)\n",
    "print(complete_rows) \n"
   ]
  },
  {
   "cell_type": "markdown",
   "id": "b09ef034-2064-464b-bde6-bb0a225dbea6",
   "metadata": {},
   "source": [
    "### Question 6\n",
    "\n",
    "Given an integer array nums sorted in non-decreasing order, return an array of the squares of each number sorted in non-decreasing order.\n"
   ]
  },
  {
   "cell_type": "code",
   "execution_count": 12,
   "id": "6929788f-3ef8-4d2d-998c-64cbd566dbe0",
   "metadata": {},
   "outputs": [],
   "source": [
    "def sortedSquares(nums):\n",
    "    n = len(nums)\n",
    "    result = [0] * n\n",
    "    left = 0\n",
    "    right = n - 1\n",
    "\n",
    "    for i in range(n - 1, -1, -1):\n",
    "        if abs(nums[left]) >= abs(nums[right]):\n",
    "            result[i] = nums[left] ** 2\n",
    "            left += 1\n",
    "        else:\n",
    "            result[i] = nums[right] ** 2\n",
    "            right -= 1\n",
    "\n",
    "    return result"
   ]
  },
  {
   "cell_type": "code",
   "execution_count": 13,
   "id": "f7d65416-5458-46cd-8d2c-839ab3c80109",
   "metadata": {},
   "outputs": [
    {
     "name": "stdout",
     "output_type": "stream",
     "text": [
      "[0, 1, 9, 16, 100]\n"
     ]
    }
   ],
   "source": [
    "nums = [-4, -1, 0, 3, 10]\n",
    "squared_nums = sortedSquares(nums)\n",
    "print(squared_nums)"
   ]
  },
  {
   "cell_type": "markdown",
   "id": "5de03b2f-4352-4625-829c-9dbe43fd1d5b",
   "metadata": {},
   "source": [
    "### Question 7\n",
    "\n",
    "You are given an m x n matrix M initialized with all 0's and an array of operations ops, where ops[i] = [ai, bi] means M[x][y] should be incremented by one for all 0 <= x < ai and 0 <= y < bi.\n",
    "\n",
    "Count and return *the number of maximum integers in the matrix after performing all the operations*\n",
    "\n"
   ]
  },
  {
   "cell_type": "code",
   "execution_count": 14,
   "id": "32fe4bd3-188c-4f01-a388-f96420fa907b",
   "metadata": {},
   "outputs": [],
   "source": [
    "def maxCount(m, n, ops):\n",
    "    min_rows = m\n",
    "    min_cols = n\n",
    "\n",
    "    for op in ops:\n",
    "        min_rows = min(min_rows, op[0])\n",
    "        min_cols = min(min_cols, op[1])\n",
    "\n",
    "    return min_rows * min_cols\n"
   ]
  },
  {
   "cell_type": "code",
   "execution_count": 15,
   "id": "058cbabc-a3bb-480d-91e4-a3df5b9921da",
   "metadata": {},
   "outputs": [
    {
     "name": "stdout",
     "output_type": "stream",
     "text": [
      "4\n"
     ]
    }
   ],
   "source": [
    "m = 3\n",
    "n = 3\n",
    "ops = [[2, 2], [3, 3]]\n",
    "\n",
    "max_integers = maxCount(m, n, ops)\n",
    "print(max_integers) "
   ]
  },
  {
   "cell_type": "markdown",
   "id": "ae6f3e11-baf2-418d-8487-a1bd3e6c7bd4",
   "metadata": {},
   "source": [
    "### Question 8\n",
    "\n",
    "Given the array nums consisting of 2n elements in the form [x1,x2,...,xn,y1,y2,...,yn].\n",
    "\n",
    "*Return the array in the form* [x1,y1,x2,y2,...,xn,yn].\n"
   ]
  },
  {
   "cell_type": "code",
   "execution_count": 17,
   "id": "b43c0f4c-1a50-4701-93ad-c4ae396fdc9c",
   "metadata": {},
   "outputs": [],
   "source": [
    "def rearrangeArray(nums, n):\n",
    "    result = []\n",
    "    for i in range(n):\n",
    "        result.append(nums[i])\n",
    "        result.append(nums[i + n])\n",
    "    return result\n"
   ]
  },
  {
   "cell_type": "code",
   "execution_count": 18,
   "id": "ed30d324-1807-451a-a42f-dcf8dfa4ac90",
   "metadata": {},
   "outputs": [
    {
     "name": "stdout",
     "output_type": "stream",
     "text": [
      "[2, 3, 5, 4, 1, 7]\n"
     ]
    }
   ],
   "source": [
    "nums = [2, 5, 1, 3, 4, 7]\n",
    "n = 3\n",
    "\n",
    "rearranged_nums = rearrangeArray(nums, n)\n",
    "print(rearranged_nums)  \n"
   ]
  },
  {
   "cell_type": "code",
   "execution_count": null,
   "id": "e3e42a48-774d-4bb1-9096-4575d3da7777",
   "metadata": {},
   "outputs": [],
   "source": []
  }
 ],
 "metadata": {
  "kernelspec": {
   "display_name": "Python 3 (ipykernel)",
   "language": "python",
   "name": "python3"
  },
  "language_info": {
   "codemirror_mode": {
    "name": "ipython",
    "version": 3
   },
   "file_extension": ".py",
   "mimetype": "text/x-python",
   "name": "python",
   "nbconvert_exporter": "python",
   "pygments_lexer": "ipython3",
   "version": "3.10.6"
  }
 },
 "nbformat": 4,
 "nbformat_minor": 5
}
