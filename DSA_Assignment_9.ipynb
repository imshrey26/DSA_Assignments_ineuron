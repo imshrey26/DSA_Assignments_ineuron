{
 "cells": [
  {
   "cell_type": "markdown",
   "id": "d2eae4dd-24d7-488e-8474-82e97d7bcc42",
   "metadata": {},
   "source": [
    "### Question 1\n",
    "\n",
    "Given an integer `n`, return *`true` if it is a power of two. Otherwise, return `false`*.\n",
    "\n",
    "An integer `n` is a power of two, if there exists an integer `x` such that `n == 2x`.\n"
   ]
  },
  {
   "cell_type": "code",
   "execution_count": 1,
   "id": "22ab1944-3f0d-44dc-b555-1ac3f9aff014",
   "metadata": {},
   "outputs": [],
   "source": [
    "def isPowerOfTwo(n):\n",
    "    if n <= 0:\n",
    "        return False\n",
    "    \n",
    "    return (n & (n - 1)) == 0\n"
   ]
  },
  {
   "cell_type": "code",
   "execution_count": 2,
   "id": "21c09a56-1a98-4cba-a92c-758e503819d6",
   "metadata": {},
   "outputs": [
    {
     "name": "stdout",
     "output_type": "stream",
     "text": [
      "True\n"
     ]
    }
   ],
   "source": [
    "n = 16\n",
    "result = isPowerOfTwo(n)\n",
    "print(result)\n"
   ]
  },
  {
   "cell_type": "markdown",
   "id": "5d35de3a-4f6e-43a9-be2b-700bef428143",
   "metadata": {},
   "source": [
    "### Question 2\n",
    "\n",
    "Given a number n, find the sum of the first natural numbers."
   ]
  },
  {
   "cell_type": "code",
   "execution_count": 3,
   "id": "3fbc7ea1-5565-4984-92a7-c53e1edaa292",
   "metadata": {},
   "outputs": [],
   "source": [
    "def sumOfNaturalNumbers(n):\n",
    "    sum = (n * (n + 1)) // 2\n",
    "    return sum\n"
   ]
  },
  {
   "cell_type": "code",
   "execution_count": 4,
   "id": "fe38cfc2-7793-419a-ab73-cd8dcbb90336",
   "metadata": {},
   "outputs": [
    {
     "name": "stdout",
     "output_type": "stream",
     "text": [
      "15\n"
     ]
    }
   ],
   "source": [
    "n = 5\n",
    "result = sumOfNaturalNumbers(n)\n",
    "print(result)\n"
   ]
  },
  {
   "cell_type": "markdown",
   "id": "73e51e06-a816-466b-a022-c9a8e7cab919",
   "metadata": {},
   "source": [
    "### Question 3\n",
    "\n",
    "Given a positive integer, N. Find the factorial of N. \n"
   ]
  },
  {
   "cell_type": "code",
   "execution_count": 5,
   "id": "27ddf35b-e3ff-4d63-89bd-b2675392e8af",
   "metadata": {},
   "outputs": [],
   "source": [
    "def factorial(n):\n",
    "    if n == 0 or n == 1:\n",
    "        return 1\n",
    "    else:\n",
    "        return n * factorial(n - 1)\n"
   ]
  },
  {
   "cell_type": "code",
   "execution_count": 6,
   "id": "4839305f-6d3e-4b9c-aa33-2413d7b6dd53",
   "metadata": {},
   "outputs": [
    {
     "name": "stdout",
     "output_type": "stream",
     "text": [
      "120\n"
     ]
    }
   ],
   "source": [
    "n = 5\n",
    "result = factorial(n)\n",
    "print(result)\n"
   ]
  },
  {
   "cell_type": "markdown",
   "id": "82112fea-1d59-4887-b00d-bfb1c979ccbe",
   "metadata": {},
   "source": [
    "### Question 4\n",
    "\n",
    "Given a number N and a power P, the task is to find the exponent of this number raised to the given power, i.e. N^P.\n"
   ]
  },
  {
   "cell_type": "code",
   "execution_count": 7,
   "id": "67ae9e04-1646-493f-964c-c00b8d55ce27",
   "metadata": {},
   "outputs": [],
   "source": [
    "def exponentiation(N, P):\n",
    "    if P == 0:\n",
    "        return 1\n",
    "    else:\n",
    "        return N * exponentiation(N, P - 1)\n"
   ]
  },
  {
   "cell_type": "code",
   "execution_count": 8,
   "id": "bf4a4bc7-c032-4f0b-9825-72b4a7d1289f",
   "metadata": {},
   "outputs": [
    {
     "name": "stdout",
     "output_type": "stream",
     "text": [
      "32\n"
     ]
    }
   ],
   "source": [
    "N = 2\n",
    "P = 5\n",
    "result = exponentiation(N, P)\n",
    "print(result)\n"
   ]
  },
  {
   "cell_type": "markdown",
   "id": "0d3cf775-7d4a-45bd-a947-c8ab8e992bce",
   "metadata": {},
   "source": [
    "### Question 5*\n",
    "\n",
    "Given an array of integers **arr**, the task is to find maximum element of that array using recursion.\n"
   ]
  },
  {
   "cell_type": "code",
   "execution_count": 9,
   "id": "d8005192-46fd-452a-8d39-99ae0f3a8adc",
   "metadata": {},
   "outputs": [],
   "source": [
    "def find_max(arr, n):\n",
    "    if n == 1:\n",
    "        return arr[0]\n",
    "    else:\n",
    "        return max(arr[n-1], find_max(arr, n-1))\n"
   ]
  },
  {
   "cell_type": "code",
   "execution_count": 10,
   "id": "e50dae46-b9f3-49d4-bd2e-e949e44c7498",
   "metadata": {},
   "outputs": [
    {
     "name": "stdout",
     "output_type": "stream",
     "text": [
      "8\n"
     ]
    }
   ],
   "source": [
    "arr = [1, 4, 3, -5, -4, 8, 6]\n",
    "n = len(arr)\n",
    "result = find_max(arr, n)\n",
    "print(result)\n"
   ]
  },
  {
   "cell_type": "markdown",
   "id": "b10070de-aa5c-4c28-b43d-470af935b6d0",
   "metadata": {},
   "source": [
    "### Question 6\n",
    "\n",
    "Given first term (a), common difference (d) and a integer N of the Arithmetic Progression series, the task is to find Nth term of the series.\n",
    "\n"
   ]
  },
  {
   "cell_type": "code",
   "execution_count": 11,
   "id": "0095fbc1-415f-475f-96d0-2e86a75c425f",
   "metadata": {},
   "outputs": [],
   "source": [
    "def find_nth_term(a, d, N):\n",
    "    return a + (N - 1) * d\n"
   ]
  },
  {
   "cell_type": "code",
   "execution_count": 12,
   "id": "07b56cf9-2ce6-47a3-8ecf-a18e6e68f7dd",
   "metadata": {},
   "outputs": [
    {
     "name": "stdout",
     "output_type": "stream",
     "text": [
      "6\n"
     ]
    }
   ],
   "source": [
    "a = 2\n",
    "d = 1\n",
    "N = 5\n",
    "result = find_nth_term(a, d, N)\n",
    "print(result)\n"
   ]
  },
  {
   "cell_type": "markdown",
   "id": "bd1ab12f-3867-4b8b-bee5-144f295ae5d2",
   "metadata": {},
   "source": [
    "### Question 7\n",
    "\n",
    "Given a string S, the task is to write a program to print all permutations of a given string.\n"
   ]
  },
  {
   "cell_type": "code",
   "execution_count": 15,
   "id": "6753786c-156f-4b6c-b348-2c7ebe32f8c8",
   "metadata": {},
   "outputs": [],
   "source": [
    "def permute_string(s):\n",
    "    # Convert the string to a list of characters for easier manipulation\n",
    "    char_list = list(s)\n",
    "    result = []\n",
    "    \n",
    "    def backtrack(start):\n",
    "        # Base case: If start reaches the end of the string, add the current permutation to the result\n",
    "        if start == len(char_list):\n",
    "            result.append(''.join(char_list))\n",
    "            return\n",
    "        \n",
    "        # Recursive case: Generate permutations by swapping characters\n",
    "        for i in range(start, len(char_list)):\n",
    "            # Swap characters at positions start and i\n",
    "            char_list[start], char_list[i] = char_list[i], char_list[start]\n",
    "            \n",
    "            # Recursively generate permutations for the next position\n",
    "            backtrack(start + 1)\n",
    "            \n",
    "            # Undo the swap to backtrack\n",
    "            char_list[start], char_list[i] = char_list[i], char_list[start]\n",
    "    \n",
    "    # Start the backtracking process from index 0\n",
    "    backtrack(0)\n",
    "    \n",
    "    return result\n"
   ]
  },
  {
   "cell_type": "code",
   "execution_count": 16,
   "id": "b98e22b2-9a2c-45d9-9600-d9b90b2da5ca",
   "metadata": {},
   "outputs": [
    {
     "name": "stdout",
     "output_type": "stream",
     "text": [
      "['ABC', 'ACB', 'BAC', 'BCA', 'CBA', 'CAB']\n"
     ]
    }
   ],
   "source": [
    "s = \"ABC\"\n",
    "result = permute_string(s)\n",
    "print(result)\n"
   ]
  },
  {
   "cell_type": "markdown",
   "id": "cafef257-00a1-4adb-a233-f6b7f6a528b2",
   "metadata": {},
   "source": [
    "### Question 8\n",
    "\n",
    "Given an array, find a product of all array elements."
   ]
  },
  {
   "cell_type": "code",
   "execution_count": 19,
   "id": "7fc8f0b4-5458-46b7-8253-bfa86f96e76f",
   "metadata": {},
   "outputs": [],
   "source": [
    "def product_of_array(arr):\n",
    "    product = 1\n",
    "    for num in arr:\n",
    "        product *= num\n",
    "    return product\n"
   ]
  },
  {
   "cell_type": "code",
   "execution_count": 20,
   "id": "675e33e2-358b-40df-b58a-edc31de44818",
   "metadata": {},
   "outputs": [
    {
     "name": "stdout",
     "output_type": "stream",
     "text": [
      "18\n"
     ]
    }
   ],
   "source": [
    "arr = [1, 6, 3]\n",
    "result = product_of_array(arr)\n",
    "print(result)\n"
   ]
  },
  {
   "cell_type": "code",
   "execution_count": null,
   "id": "b164faf0-a0f2-43d3-9423-96f3fdb80533",
   "metadata": {},
   "outputs": [],
   "source": []
  }
 ],
 "metadata": {
  "kernelspec": {
   "display_name": "Python 3 (ipykernel)",
   "language": "python",
   "name": "python3"
  },
  "language_info": {
   "codemirror_mode": {
    "name": "ipython",
    "version": 3
   },
   "file_extension": ".py",
   "mimetype": "text/x-python",
   "name": "python",
   "nbconvert_exporter": "python",
   "pygments_lexer": "ipython3",
   "version": "3.10.6"
  }
 },
 "nbformat": 4,
 "nbformat_minor": 5
}
